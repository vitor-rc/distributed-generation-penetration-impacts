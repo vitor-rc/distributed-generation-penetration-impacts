{
  "nbformat": 4,
  "nbformat_minor": 0,
  "metadata": {
    "colab": {
      "name": "TCC_entregaTcc1",
      "provenance": [],
      "collapsed_sections": [],
      "include_colab_link": true
    },
    "kernelspec": {
      "display_name": "Python 3",
      "language": "python",
      "name": "python3"
    },
    "language_info": {
      "codemirror_mode": {
        "name": "ipython",
        "version": 3
      },
      "file_extension": ".py",
      "mimetype": "text/x-python",
      "name": "python",
      "nbconvert_exporter": "python",
      "pygments_lexer": "ipython3",
      "version": "3.8.3"
    }
  },
  "cells": [
    {
      "cell_type": "markdown",
      "metadata": {
        "id": "view-in-github",
        "colab_type": "text"
      },
      "source": [
        "<a href=\"https://colab.research.google.com/github/vitor-rc/distributed-generation-penetration-impacts/blob/main/TCC_entregaTcc1.ipynb\" target=\"_parent\"><img src=\"https://colab.research.google.com/assets/colab-badge.svg\" alt=\"Open In Colab\"/></a>"
      ]
    },
    {
      "cell_type": "markdown",
      "metadata": {
        "id": "PYcK58vxeXGE"
      },
      "source": [
        "# Instalando pacotes e preparando o ambiente"
      ]
    },
    {
      "cell_type": "code",
      "metadata": {
        "id": "iqSHZp9d6-Uz"
      },
      "source": [
        "!pip install pandapower\n",
        "!pip install --upgrade gspread\n",
        "\n",
        "from google.colab import auth\n",
        "auth.authenticate_user()"
      ],
      "execution_count": null,
      "outputs": []
    },
    {
      "cell_type": "code",
      "metadata": {
        "id": "6lJYXXfij_Kj"
      },
      "source": [
        "import gspread\n",
        "from oauth2client.client import GoogleCredentials\n",
        "\n",
        "gc = gspread.authorize(GoogleCredentials.get_application_default())"
      ],
      "execution_count": 3,
      "outputs": []
    },
    {
      "cell_type": "markdown",
      "metadata": {
        "id": "wnemZR1L5umS"
      },
      "source": [
        "## Importando bibliotecas necessárias"
      ]
    },
    {
      "cell_type": "code",
      "metadata": {
        "id": "u3B-qNR9YT3J"
      },
      "source": [
        "import pandapower as pp\n",
        "import pandas as pd\n",
        "import pandapower.networks as nw\n",
        "import pandapower.plotting as plot\n",
        "import numpy as np\n",
        "import math\n",
        "import random\n",
        "from matplotlib import pyplot as plt\n",
        "import scipy.io"
      ],
      "execution_count": 4,
      "outputs": []
    },
    {
      "cell_type": "markdown",
      "metadata": {
        "id": "O1RCjcehfNFJ"
      },
      "source": [
        "# Importar a rede de estudo e as bases de dados"
      ]
    },
    {
      "cell_type": "code",
      "metadata": {
        "id": "8rrYNolm5ume",
        "colab": {
          "base_uri": "https://localhost:8080/"
        },
        "outputId": "3fd5e4c9-ed01-4198-d856-842f09ef0cca"
      },
      "source": [
        "#net = nw.ieee_european_lv_asymmetric('off_peak_1')\n",
        "net = nw.ieee_european_lv_asymmetric('on_peak_566')\n",
        "#net = nw.ieee_european_lv_asymmetric('off_peak_1440')\n",
        "\n",
        "print('Low Voltage Network imported successfully')"
      ],
      "execution_count": 5,
      "outputs": [
        {
          "output_type": "stream",
          "text": [
            "Low Voltage Network imported successfully\n"
          ],
          "name": "stdout"
        }
      ]
    },
    {
      "cell_type": "code",
      "metadata": {
        "colab": {
          "base_uri": "https://localhost:8080/"
        },
        "id": "UjA0IeIy2B5R",
        "outputId": "3989c4fe-55e8-49a2-a85a-3e41fd3eb3f6"
      },
      "source": [
        "#r_cap = pd.read_csv('/content/drive/My Drive/TCC_2020/Matlab_legacy/Mestrado_Marina/Resid_2018_06_30_database2.csv',header=0)\n",
        "# Read source file with installed capacities information\n",
        "\n",
        "Resid_2018_06_30_database2 = gc.open_by_key('1DhTztu3fBIn6-2viEA_ygPwIKlgyh18wtEh9o_0JDO0').get_worksheet(0)\n",
        "r_cap = pd.DataFrame(Resid_2018_06_30_database2.col_values(1))\n",
        "\n",
        "#r_cap.at[3,\"resid_cap_vals\"]\n",
        "r_cap = r_cap.drop([0])\n",
        "r_cap[0] = pd.to_numeric(r_cap[0])\n",
        "# r_cap\n",
        "\n",
        "print('Residential PV panel data loaded successfully')"
      ],
      "execution_count": 6,
      "outputs": [
        {
          "output_type": "stream",
          "text": [
            "Residential PV panel data loaded successfully\n"
          ],
          "name": "stdout"
        }
      ]
    },
    {
      "cell_type": "code",
      "metadata": {
        "colab": {
          "base_uri": "https://localhost:8080/"
        },
        "id": "PyjdNECw2qbp",
        "outputId": "408990f6-4bb7-45ea-aaeb-7790b8a03418"
      },
      "source": [
        "Curvas_extraidas = gc.open_by_key('1QoDRqg0pOoEJ2diETBuhl1k_IaBOakuVQfUQG2t4jg0')\n",
        "\n",
        "x1 = pd.DataFrame(Curvas_extraidas.worksheet('Deviation').col_values(1)) #hora\n",
        "DP = pd.DataFrame(Curvas_extraidas.worksheet('Deviation').col_values(2)) #Desvio Padrao\n",
        "x1 = x1.drop([0])\n",
        "x1[0] = x1[0].str.replace(\",\", \".\").astype(float)\n",
        "DP = DP.drop([0])\n",
        "DP[0] = DP[0].str.replace(\",\", \".\").astype(float)\n",
        "DP=DP.to_numpy().transpose()\n",
        "\n",
        "x2 = pd.DataFrame(Curvas_extraidas.worksheet('Mean').col_values(1))\n",
        "perfil = pd.DataFrame(Curvas_extraidas.worksheet('Mean').col_values(2))\n",
        "x2 = x2.drop([0])\n",
        "x2[0] = x2[0].str.replace(\",\", \".\").astype(float)\n",
        "perfil = perfil.drop([0])\n",
        "perfil[0] = perfil[0].str.replace(\",\", \".\").astype(float)\n",
        "perfil=perfil.to_numpy().transpose()\n",
        "\n",
        "print('Consumption database loaded successfully')"
      ],
      "execution_count": 7,
      "outputs": [
        {
          "output_type": "stream",
          "text": [
            "Consumption database loaded successfully\n"
          ],
          "name": "stdout"
        }
      ]
    },
    {
      "cell_type": "code",
      "metadata": {
        "colab": {
          "base_uri": "https://localhost:8080/"
        },
        "id": "c08s00CO6t58",
        "outputId": "4ad21db7-a5cc-44e3-b8de-ed7459e3b1be"
      },
      "source": [
        "Cargamediabase = gc.open_by_key('1iI3d8zT_uc4HTmHmIdHPWYaoFvVmdkgKFTmLQreN2D8')\n",
        "base = pd.DataFrame(Cargamediabase.worksheet('Plan1').col_values(1))\n",
        "base = base.drop([0])\n",
        "base[0] = base[0].str.replace(\",\", \".\").astype(float)\n",
        "\n",
        "print('Base load')"
      ],
      "execution_count": 8,
      "outputs": [
        {
          "output_type": "stream",
          "text": [
            "Base load\n"
          ],
          "name": "stdout"
        }
      ]
    },
    {
      "cell_type": "markdown",
      "metadata": {
        "id": "8gU-DXVnfw_o"
      },
      "source": [
        "# A Partir Daqui são definidas as funções usadas no problemas"
      ]
    },
    {
      "cell_type": "markdown",
      "metadata": {
        "id": "vlMeXMYy1hgB"
      },
      "source": [
        "## Plotagem da rede:"
      ]
    },
    {
      "cell_type": "code",
      "metadata": {
        "id": "qcSj7KJBv4-G"
      },
      "source": [
        "def plot_network():\n",
        "    try:\n",
        "        import seaborn\n",
        "        colors = seaborn.color_palette()\n",
        "    except:\n",
        "        colors = [\"b\", \"g\", \"r\", \"c\", \"y\"]\n",
        "    %matplotlib inline\n",
        "\n",
        "    # Plot all the buses\n",
        "    bc = plot.create_bus_collection(net, net.bus.index, size=.2, color=colors[0], zorder=10)\n",
        "\n",
        "    #Plot Transformers\n",
        "    tlc, tpc = plot.create_trafo_collection(net, net.trafo.index, color=\"g\",size =1.5 )\n",
        "\n",
        "    # Plot all the lines\n",
        "    lcd = plot.create_line_collection(net, net.line.index, color=\"grey\", linewidths=0.5, use_bus_geodata=True)\n",
        "\n",
        "    # Plot the external grid\n",
        "    sc = plot.create_bus_collection(net, net.ext_grid.bus.values, patch_type=\"poly3\", size=1, color=\"c\", zorder=11)\n",
        "\n",
        "    #Plot all the loads\n",
        "    ldA = plot.create_bus_collection(net, net.asymmetric_load.bus.values[np.where(net.asymmetric_load.p_a_mw >0)], patch_type=\"poly3\", size=.5, color=\"r\", zorder=11)\n",
        "    ldB = plot.create_bus_collection(net, net.asymmetric_load.bus.values[np.where(net.asymmetric_load.p_b_mw >0)], patch_type=\"rect\", size=.5, color=\"y\", zorder=11)\n",
        "    ldC = plot.create_bus_collection(net, net.asymmetric_load.bus.values[np.where(net.asymmetric_load.p_c_mw >0)], patch_type=\"circle\", size=.5, color=\"b\", zorder=11)\n",
        "\n",
        "    # Plot the max. loaded line and max. unbalanced node\n",
        "    max_load = plot.create_line_collection(net, np.array([net.res_line_3ph.loading_percent.idxmax()]), color=\"black\", linewidths=15, use_bus_geodata=True)\n",
        "    max_unbal = plot.create_bus_collection(net, np.array([net.res_bus_3ph.unbalance_percent.idxmax()]), patch_type=\"rect\", size=1, color=\"black\", zorder=11)\n",
        "\n",
        "    # Draw all the collected plots\n",
        "    plot.draw_collections([lcd, bc, tlc, tpc, sc,ldA,ldB,ldC,max_load,max_unbal], figsize=(20,20))\n",
        "    \n",
        "# plot_network()"
      ],
      "execution_count": 9,
      "outputs": []
    },
    {
      "cell_type": "markdown",
      "metadata": {
        "id": "3jne8UzQ2Km6"
      },
      "source": [
        "## Sorteio da Capacidade Instalada e Localização dos Painéis"
      ]
    },
    {
      "cell_type": "code",
      "metadata": {
        "id": "ZPjA3JLXa858"
      },
      "source": [
        "def Allocate_PV(Transformer_capacity, Penetration_index, Nb_Load):\n",
        "\n",
        "  Total_PV_cap = Transformer_capacity*Penetration_index/100\n",
        "\n",
        "  #Select maximum installed capacity (in kWp)\n",
        "  max_cap = 15\n",
        "\n",
        "  cap = []\n",
        "  for i in range(1,len(r_cap)+1,1):\n",
        "    if (r_cap.at[i,0]<= max_cap): # Pega apenas os valores de PV menores que o valor max_cap\n",
        "        cap.append(r_cap.at[i,0])\n",
        "        \n",
        "  #Sturges rule\n",
        "  n_bins = 1 + 3.322*(math.log(len(cap))/math.log(10))\n",
        "  n_bins = round(n_bins)\n",
        "  n_bins *= 2\n",
        "\n",
        "  # Generating histogram from actual installed capacity data\n",
        "  (n, bins) = np.histogram(cap,bins=n_bins)\n",
        "  h_edges = bins\n",
        "  h_val = n\n",
        "\n",
        "  #Getting the installed capacities to be randomly sorted\n",
        "  PV_cap = []\n",
        "  for i in range(0,len(h_edges)-1,1):\n",
        "    PV_cap.append( (h_edges[i]+h_edges[i+1])/2 )\n",
        "\n",
        "  # Assembling CDF of installed capacities\n",
        "  kwp_cdf = []\n",
        "  for i in range(1,len(PV_cap)+1,1):\n",
        "      kwp_cdf.append( sum(h_val[0:i])/sum(h_val) )\n",
        "\n",
        "  # Getting the installed capacity for each PV system\n",
        "  Total_cap = 0;\n",
        "  Nb_PV =1;\n",
        "  \n",
        "  sorted_Cap = []\n",
        "  while Total_cap <= Total_PV_cap:\n",
        "      kk=1\n",
        "      sort = random.random()\n",
        "      while sort > kwp_cdf[kk]: #Achar o kk que representa em que ponto do histograma acumulado está o número sorteado\n",
        "          kk=kk+1\n",
        "      \n",
        "      if Nb_PV<=Nb_Load:\n",
        "          sorted_Cap.append(PV_cap[kk-1]) #confirmar\n",
        "          Total_cap = Total_cap + sorted_Cap[-1] #confirmar\n",
        "      else:\n",
        "          x = random.randint(1,Nb_Load-1) \n",
        "          sorted_Cap[x] = sorted_Cap[x]+PV_cap[kk-1]\n",
        "          Total_cap = Total_cap + PV_cap[kk-1]\n",
        "        \n",
        "      Nb_PV=Nb_PV+1\n",
        "\n",
        "  Total_cap\n",
        "  Nb_PV = len(sorted_Cap)\n",
        "  PV_location=[]\n",
        "  # sorting the location of the Nb_PV systems\n",
        "  for i in range(0,Nb_PV,1):\n",
        "      aux=np.random.choice(np.arange(1,Nb_Load))\n",
        "      PV_location.append( aux)  \n",
        "  #sorted_Cap = 0\n",
        "  #PV_location = 0\n",
        "  #Nb_PV = 0\n",
        "  return (sorted_Cap, PV_location, Nb_PV)\n",
        "# Allocate_PV(Transformer_capacity=880, Penetration_index=20, Nb_Load=55)"
      ],
      "execution_count": 10,
      "outputs": []
    },
    {
      "cell_type": "markdown",
      "metadata": {
        "id": "YQttDQSG2XkR"
      },
      "source": [
        "## Média e Desvio Padrão usados na alocação de cargas"
      ]
    },
    {
      "cell_type": "code",
      "metadata": {
        "id": "VfD0qPpsWpy0"
      },
      "source": [
        "def Desvio_Padrao(t0, tf, ss_res):\n",
        "    t0;  tf;  ss_res ;\n",
        "    td= np.arange(0,24,ss_res/60)\n",
        "\n",
        "    time = x1.to_numpy().transpose()\n",
        "    t1 = np.nonzero(td==t0)[0][0]\n",
        "    t2 = np.nonzero(td==tf)[0][0]\n",
        "\n",
        "    c = scipy.interpolate.splrep(time[0],DP[0],s=0)\n",
        "    DP_t1t2 = scipy.interpolate.splev(td[t1:t2], c, der=0)\n",
        "    #DP=spline(time,DP,td(t1:t2)) # Cubic spline data interpolation\n",
        "\n",
        "    return DP_t1t2"
      ],
      "execution_count": 11,
      "outputs": []
    },
    {
      "cell_type": "code",
      "metadata": {
        "id": "hF-kwZ0cezeo"
      },
      "source": [
        "# Função Perfil de Carga\n",
        "def Perfil_de_Carga(t0, tf, ss_res):\n",
        "    t0;tf; ss_res\n",
        "    # td= [0:ss_res/60:24]; \n",
        "    td = np.arange(0,24,ss_res/60)\n",
        "\n",
        "    time1 = x2.to_numpy().transpose()\n",
        "    t1 = np.nonzero(td==t0)[0][0]\n",
        "    t2 = np.nonzero(td==tf)[0][0]  \n",
        "\n",
        "    #PC = spline(time1,perfil,td(t1:t2));\n",
        "    d = scipy.interpolate.splrep(time1[0],perfil[0],s=0)\n",
        "    PC = scipy.interpolate.splev(td[t1:t2], d, der=0)\n",
        "    return PC"
      ],
      "execution_count": 12,
      "outputs": []
    },
    {
      "cell_type": "markdown",
      "metadata": {
        "id": "ntKGyOJa3Ghs"
      },
      "source": [
        "# Algorítimo principal"
      ]
    },
    {
      "cell_type": "markdown",
      "metadata": {
        "id": "IlZtPVqx7Zmo"
      },
      "source": [
        "## Parâmetros do modelo"
      ]
    },
    {
      "cell_type": "code",
      "metadata": {
        "id": "CAn58bEi7g4a"
      },
      "source": [
        "# Define Snapshot Resolution\n",
        "ss_res = 15; # in minutes\n",
        "\n",
        "# Define Number of hours of simulation\n",
        "t0=11\n",
        "tf=13\n",
        "Nb_h = tf-t0\n",
        "\n",
        "Transformer_capacity = 1000\n",
        "Penetration_index = 80\n",
        "IP=0.8\n",
        "\n",
        "# Calculate the number of snapshots Nb_ss\n",
        "Nb_ss = Nb_h*60/ss_res+1\n",
        "Nb_ss=int(Nb_ss)\n",
        "#if Penetration_index ~= 0\n",
        "      \n",
        "# Load profile\n",
        "\n",
        "P_inst = 15\n",
        "pf= 1\n",
        "\n",
        "Std_load = Desvio_Padrao(t0, tf, ss_res)\n",
        "Avg_load = Perfil_de_Carga(t0, tf, ss_res)\n",
        "\n",
        "#disp('Parameters of the simulation are defined.')\n",
        "\n",
        "# Determinam o limite das barras no histograma\n",
        "#edges = 0.8:0.02:1.2\n",
        "edges = np.arange(0,151,1)\n",
        "# Erro relativo \n",
        "sensivity = 1/100000000\n",
        "Nb_line=len(net.line)\n",
        "Load_Ia=np.zeros((1,Nb_line,Nb_ss-1))\n",
        "Load_Ib=np.zeros((1,Nb_line,Nb_ss-1))\n",
        "Load_Ic=np.zeros((1,Nb_line,Nb_ss-1))"
      ],
      "execution_count": 30,
      "outputs": []
    },
    {
      "cell_type": "markdown",
      "metadata": {
        "id": "vwjQesy47h6V"
      },
      "source": [
        "## Loop de Simulações Monte Carlo"
      ]
    },
    {
      "cell_type": "code",
      "metadata": {
        "id": "oIyLPB6degY1",
        "colab": {
          "base_uri": "https://localhost:8080/"
        },
        "outputId": "d44eed2c-a1aa-47e4-fbe8-da781e3de03d"
      },
      "source": [
        "MCM=0 # Contador do numero de simulacoes\n",
        "\n",
        "# Criterio de parada inicializacao\n",
        "\n",
        "stop_crita = 1\n",
        "stop_critb = 1\n",
        "stop_critc = 1\n",
        "\n",
        "erroa = np.zeros((1,2))\n",
        "errob = np.zeros((1,2))\n",
        "erroc = np.zeros((1,2))\n",
        "\n",
        "\n",
        "while (stop_crita>=sensivity or stop_critb>=sensivity or stop_critc>=sensivity):\n",
        "    \n",
        "    print (MCM)\n",
        "    net_prim = nw.ieee_european_lv_asymmetric('on_peak_566')\n",
        "    net=net_prim\n",
        "    Load_Ia=np.concatenate((Load_Ia,[np.zeros((Nb_line,Nb_ss-1))]),0)\n",
        "    Load_Ib=np.concatenate((Load_Ib,[np.zeros((Nb_line,Nb_ss-1))]),0)\n",
        "    Load_Ic=np.concatenate((Load_Ic,[np.zeros((Nb_line,Nb_ss-1))]),0)\n",
        "\n",
        "    Nb_Load = len(net.asymmetric_load) # numero de cargas\n",
        "    \n",
        "    # Sort load profiles \n",
        "    Load_kW=np.zeros((Nb_Load,int(Nb_ss)-1))  \n",
        "    for i in range(0,Nb_Load):\n",
        "        for j in range(0,int(Nb_ss)-1): #number of snapshots\n",
        "            Load_kW[i][j] = (Avg_load[j] + Std_load[j]*random.random())*base[0][i+1]\n",
        "    #print(Load_kW)\n",
        "    print('Load profiles created successfully')\n",
        "   \n",
        "    ## Create PV systems\n",
        "    if (Penetration_index != 0): \n",
        "      sorted_Cap, PV_location, Nb_PV = Allocate_PV(Transformer_capacity, Penetration_index, Nb_Load);\n",
        "\n",
        "      for i in range(0,Nb_PV,1):\n",
        "        if net.asymmetric_load.at[PV_location[i],'p_a_mw'] != 0:\n",
        "          pp.create_asymmetric_sgen(net, bus=net.asymmetric_load.bus[PV_location[i]], p_a_mw=sorted_Cap[i]/1000)         \n",
        "        elif net.asymmetric_load.at[PV_location[i],'p_b_mw'] != 0:\n",
        "          pp.create_asymmetric_sgen(net, bus=net.asymmetric_load.bus[PV_location[i]], p_b_mw=sorted_Cap[i]/1000)\n",
        "        elif net.asymmetric_load.at[PV_location[i],'p_c_mw'] != 0:\n",
        "          pp.create_asymmetric_sgen(net, bus=net.asymmetric_load.bus[PV_location[i]], p_c_mw=sorted_Cap[i]/1000)\n",
        "        #print(net.sgen)\n",
        "    \n",
        "      print('PV systems created successfully');\n",
        "    \n",
        "        # Create Solar irradiation profiles (Next steps)\n",
        "        #print('Solar irradiance profiles created successfully');\n",
        "\n",
        "    ## Snapshot solving\n",
        "    \n",
        "    for i in range(0,int(Nb_ss)-1,1):\n",
        "        \n",
        "        for j in range(0,Nb_Load,1):\n",
        "\n",
        "            if net.asymmetric_load.at[j,'p_a_mw'] != 0:\n",
        "                net.asymmetric_load.at[j,'p_a_mw']= Load_kW[j][i]/1000;\n",
        "                \n",
        "            elif net.asymmetric_load.at[j,'p_b_mw'] != 0:\n",
        "                net.asymmetric_load.at[j,'p_b_mw']= Load_kW[j][i]/1000;\n",
        "                \n",
        "            elif net.asymmetric_load.at[j,'p_c_mw'] != 0:\n",
        "                net.asymmetric_load.at[j,'p_b_mw']= Load_kW[j][i]/1000;\n",
        "        \n",
        "        if Penetration_index != 0:                              \n",
        "            # Solve Snapshot\n",
        "            #print(i)\n",
        "            pp.pf.runpp_3ph.runpp_3ph(net)\n",
        "            x=net.res_line_3ph\n",
        "            #print(x)\n",
        "           \n",
        "            # Results gathering\n",
        "            for j in range(0,Nb_line,1):\n",
        "                Load_Ia[MCM][j][i] = net.res_line_3ph.loading_a_percent[j]\n",
        "                #print(Load_Ia[j][i][MCM])\n",
        "                Load_Ib[MCM][j][i] = net.res_line_3ph.loading_b_percent[j]\n",
        "                Load_Ic[MCM][j][i] = net.res_line_3ph.loading_c_percent[j]\n",
        "    #print(Load_Ia[MCM][:][:])\n",
        "    #print(Load_Ia)\n",
        "\n",
        "    if MCM>=2:\n",
        "        #print(Load_Ia_2d)\n",
        "        (h1val, bins1) = np.histogram(Load_Ia[0:MCM-1][:][:],bins=edges)\n",
        "        h1val = h1val/sum(h1val)\n",
        "        #print(h1val)\n",
        "        #print(h1val)\n",
        "        #print(\"###\")\n",
        "        (h2val, bins2) = np.histogram(Load_Ia[0:MCM][:][:],bins=edges)\n",
        "        h2val = h2val/sum(h2val)\n",
        "        #print(h2val)\n",
        "        #print(\"###\")\n",
        "        distance = h1val-h2val\n",
        "        #print(distance)\n",
        "        #print(\"###\")\n",
        "        stop_crita = np.linalg.norm(distance, ord=len(distance))\n",
        "        erroa=np.append(erroa,[0])\n",
        "        erroa[MCM] = stop_crita\n",
        "        \n",
        "\n",
        "        (h1val, bins1) = np.histogram(Load_Ib[0:MCM-1][:][:],bins=edges)\n",
        "        h1val = h1val/sum(h1val)\n",
        "        \n",
        "        (h2val, bins2) = np.histogram(Load_Ib[0:MCM][:][:],bins=edges)\n",
        "        h2val = h2val/sum(h2val)\n",
        "        \n",
        "        distance = h1val-h2val\n",
        "        \n",
        "        stop_critb = np.linalg.norm(distance, ord=len(distance))\n",
        "        errob=np.append(errob,[0])\n",
        "        errob[MCM] = stop_critb\n",
        "        \n",
        "        \n",
        "        (h1val, bins1) = np.histogram(Load_Ic[0:MCM-1][:][:],bins=edges)\n",
        "        h1val = h1val/sum(h1val)\n",
        "        \n",
        "        (h2val, bins2) = np.histogram(Load_Ic[0:MCM][:][:],bins=edges)\n",
        "        h2val = h2val/sum(h2val)\n",
        "        \n",
        "        distance = h1val-h2val\n",
        "        \n",
        "        \n",
        "        stop_critc = np.linalg.norm(distance, ord=len(distance))\n",
        "        erroc=np.append(erroc,[0])\n",
        "        erroc[MCM] = stop_critc\n",
        "        #print(erroc[MCM])\n",
        "        \n",
        "    MCM = MCM+1;\n",
        "print('MCS converged successfully')"
      ],
      "execution_count": 31,
      "outputs": [
        {
          "output_type": "stream",
          "text": [
            "0\n",
            "Load profiles created successfully\n",
            "PV systems created successfully\n",
            "1\n",
            "Load profiles created successfully\n",
            "PV systems created successfully\n",
            "2\n",
            "Load profiles created successfully\n",
            "PV systems created successfully\n",
            "3\n",
            "Load profiles created successfully\n",
            "PV systems created successfully\n",
            "4\n",
            "Load profiles created successfully\n",
            "PV systems created successfully\n",
            "5\n",
            "Load profiles created successfully\n",
            "PV systems created successfully\n",
            "6\n",
            "Load profiles created successfully\n",
            "PV systems created successfully\n",
            "7\n",
            "Load profiles created successfully\n",
            "PV systems created successfully\n",
            "MCS converged successfully\n"
          ],
          "name": "stdout"
        }
      ]
    },
    {
      "cell_type": "markdown",
      "metadata": {
        "id": "s1ImnkxW2ipW"
      },
      "source": [
        "# Análise e Print dos Gráficos"
      ]
    },
    {
      "cell_type": "code",
      "metadata": {
        "id": "iA_ATwpw2q_X"
      },
      "source": [
        "#Cálculo do percentual de transgressões por barra\n",
        "\n",
        "Nb_Transg = np.zeros((Nb_line));\n",
        "\n",
        "for i in range(0,Nb_line,1):\n",
        "    for j in range(0,MCM-1,1):\n",
        "        for k in range(0,Nb_ss-1,1):\n",
        "            if (Load_Ia[j][i][k]>100):\n",
        "                Nb_Transg[i]=Nb_Transg[i]+1\n",
        "            if (Load_Ib[j][i][k]>100):\n",
        "                Nb_Transg[i]=Nb_Transg[i]+1\n",
        "            if (Load_Ic[j][i][k]>100):\n",
        "                Nb_Transg[i]=Nb_Transg[i]+1 \n",
        "\n",
        "Total_Transg = sum(Nb_Transg);\n",
        "\n",
        "Nb_Values = Nb_Load*3*Nb_ss*(MCM-1);\n",
        "Prob_Transg = Nb_Transg/Nb_Values*100;\n",
        "A = np.arange(0,Nb_line,1);\n",
        "#A = np.transpose(A)\n",
        "\n",
        "#Prob_Transg_Alim = Total_Transg/Nb_Values*100;\n"
      ],
      "execution_count": 32,
      "outputs": []
    },
    {
      "cell_type": "code",
      "metadata": {
        "id": "70lVQty12rKf",
        "colab": {
          "base_uri": "https://localhost:8080/",
          "height": 313
        },
        "outputId": "2c600ff6-22e4-4774-f1e2-4adcfc2dc5f6"
      },
      "source": [
        "#Resultados de saída \n",
        "\n",
        "(n, bins) = np.histogram([Load_Ia,Load_Ib,Load_Ic],bins=edges)\n",
        "n\n",
        "bins\n",
        "plt.hist(bins[:-1],bins,weights=n)\n",
        "plt.ylabel('Percentual de Ocorrência (%)')\n",
        "plt.xlabel('Valores de Corrente (pu)')\n",
        "plt.title('Perfil de Correntes do Sistema - IP = 50%')\n"
      ],
      "execution_count": 33,
      "outputs": [
        {
          "output_type": "execute_result",
          "data": {
            "text/plain": [
              "Text(0.5, 1.0, 'Perfil de Correntes do Sistema - IP = 50%')"
            ]
          },
          "metadata": {
            "tags": []
          },
          "execution_count": 33
        },
        {
          "output_type": "display_data",
          "data": {
            "image/png": "[encoded data removed]",
            "text/plain": [
              "<Figure size 432x288 with 1 Axes>"
            ]
          },
          "metadata": {
            "tags": [],
            "needs_background": "light"
          }
        }
      ]
    },
    {
      "cell_type": "code",
      "metadata": {
        "id": "jhLUfZsu2rJV",
        "colab": {
          "base_uri": "https://localhost:8080/",
          "height": 315
        },
        "outputId": "0f216875-650a-437e-e20d-2d27f9b88ecb"
      },
      "source": [
        "#figure(2);\n",
        "plt.semilogy(erroa);\n",
        "plt.semilogy(errob);\n",
        "plt.semilogy(erroc);\n",
        "plt.title('Índice de Penetração = %i' %Penetration_index);\n",
        "plt.xlabel('Número de Simulações de Monte Carlo (SMC)');\n",
        "plt.ylabel('Distância Euclidiana de Corrente (pu)')"
      ],
      "execution_count": 34,
      "outputs": [
        {
          "output_type": "execute_result",
          "data": {
            "text/plain": [
              "Text(0, 0.5, 'Distância Euclidiana de Corrente (pu)')"
            ]
          },
          "metadata": {
            "tags": []
          },
          "execution_count": 34
        },
        {
          "output_type": "display_data",
          "data": {
            "image/png": "[encoded data removed]",
            "text/plain": [
              "<Figure size 432x288 with 1 Axes>"
            ]
          },
          "metadata": {
            "tags": [],
            "needs_background": "light"
          }
        }
      ]
    },
    {
      "cell_type": "code",
      "metadata": {
        "id": "EmfS56b22rEK",
        "colab": {
          "base_uri": "https://localhost:8080/",
          "height": 313
        },
        "outputId": "41bbcb4f-6f00-43f3-91e1-62fab239d2a3"
      },
      "source": [
        "#figure(3);\n",
        "#A=np.arange(0,Nb_line,1)\n",
        "plt.bar(A,Prob_Transg)\n",
        "plt.xlim((0, Nb_line))\n",
        "plt.title('Probabilidade de Transgressão de Corrente por Linha')\n",
        "plt.xlabel('Número da Linha')\n",
        "plt.ylabel('Percentual de Transgressão de Corrente(%)')"
      ],
      "execution_count": 35,
      "outputs": [
        {
          "output_type": "execute_result",
          "data": {
            "text/plain": [
              "Text(0, 0.5, 'Percentual de Transgressão de Corrente(%)')"
            ]
          },
          "metadata": {
            "tags": []
          },
          "execution_count": 35
        },
        {
          "output_type": "display_data",
          "data": {
            "image/png": "[encoded data removed]",
            "text/plain": [
              "<Figure size 432x288 with 1 Axes>"
            ]
          },
          "metadata": {
            "tags": [],
            "needs_background": "light"
          }
        }
      ]
    },
    {
      "cell_type": "code",
      "metadata": {
        "id": "pcOk6LCgwdqE",
        "colab": {
          "base_uri": "https://localhost:8080/",
          "height": 313
        },
        "outputId": "7d055381-383c-4287-d87f-6ce61651e091"
      },
      "source": [
        "#figure(4)\n",
        "plt.bar(A,Nb_Transg)\n",
        "plt.xlim((0, Nb_line))\n",
        "plt.title('Quantidade de Transgressão de Corrente por Linha')\n",
        "plt.xlabel('Número da Linha')\n",
        "plt.ylabel('Quantidade de Transgressão de Corrente')"
      ],
      "execution_count": 36,
      "outputs": [
        {
          "output_type": "execute_result",
          "data": {
            "text/plain": [
              "Text(0, 0.5, 'Quantidade de Transgressão de Corrente')"
            ]
          },
          "metadata": {
            "tags": []
          },
          "execution_count": 36
        },
        {
          "output_type": "display_data",
          "data": {
            "image/png": "[encoded data removed]",
            "text/plain": [
              "<Figure size 432x288 with 1 Axes>"
            ]
          },
          "metadata": {
            "tags": [],
            "needs_background": "light"
          }
        }
      ]
    },
    {
      "cell_type": "markdown",
      "metadata": {
        "id": "H9a1DvPt2w_L"
      },
      "source": [
        "# Rascunho"
      ]
    },
    {
      "cell_type": "code",
      "metadata": {
        "id": "OeLqk9zFGiBu"
      },
      "source": [
        ""
      ],
      "execution_count": 36,
      "outputs": []
    }
  ]
}