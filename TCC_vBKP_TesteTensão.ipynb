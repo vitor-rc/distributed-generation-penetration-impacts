{
  "nbformat": 4,
  "nbformat_minor": 0,
  "metadata": {
    "colab": {
      "name": "TCC_vBKP_TesteTensão.ipynb",
      "provenance": [],
      "collapsed_sections": [],
      "toc_visible": true,
      "include_colab_link": true
    },
    "kernelspec": {
      "display_name": "Python 3",
      "language": "python",
      "name": "python3"
    },
    "language_info": {
      "codemirror_mode": {
        "name": "ipython",
        "version": 3
      },
      "file_extension": ".py",
      "mimetype": "text/x-python",
      "name": "python",
      "nbconvert_exporter": "python",
      "pygments_lexer": "ipython3",
      "version": "3.8.3"
    }
  },
  "cells": [
    {
      "cell_type": "markdown",
      "metadata": {
        "id": "view-in-github",
        "colab_type": "text"
      },
      "source": [
        "<a href=\"https://colab.research.google.com/github/vitor-rc/distributed-generation-penetration-impacts/blob/main/TCC_vBKP_TesteTens%C3%A3o.ipynb\" target=\"_parent\"><img src=\"https://colab.research.google.com/assets/colab-badge.svg\" alt=\"Open In Colab\"/></a>"
      ]
    },
    {
      "cell_type": "markdown",
      "metadata": {
        "id": "PYcK58vxeXGE"
      },
      "source": [
        "# Instalando pacotes e preparando o ambiente"
      ]
    },
    {
      "cell_type": "code",
      "metadata": {
        "id": "iqSHZp9d6-Uz",
        "colab": {
          "base_uri": "https://localhost:8080/"
        },
        "outputId": "cb93a9ad-2105-470c-a8a8-5a5f195305d5"
      },
      "source": [
        "!pip install pandapower\n",
        "!pip install --upgrade gspread\n",
        "\n",
        "from google.colab import auth\n",
        "auth.authenticate_user()"
      ],
      "execution_count": 37,
      "outputs": [
        {
          "output_type": "stream",
          "text": [
            "Requirement already satisfied: pandapower in /usr/local/lib/python3.6/dist-packages (2.4.0)\n",
            "Requirement already satisfied: pandas>=0.17 in /usr/local/lib/python3.6/dist-packages (from pandapower) (1.1.4)\n",
            "Requirement already satisfied: cryptography in /usr/local/lib/python3.6/dist-packages (from pandapower) (3.2.1)\n",
            "Requirement already satisfied: scipy in /usr/local/lib/python3.6/dist-packages (from pandapower) (1.4.1)\n",
            "Requirement already satisfied: xlrd in /usr/local/lib/python3.6/dist-packages (from pandapower) (1.1.0)\n",
            "Requirement already satisfied: networkx in /usr/local/lib/python3.6/dist-packages (from pandapower) (2.5)\n",
            "Requirement already satisfied: numpy>=0.11 in /usr/local/lib/python3.6/dist-packages (from pandapower) (1.18.5)\n",
            "Requirement already satisfied: packaging in /usr/local/lib/python3.6/dist-packages (from pandapower) (20.4)\n",
            "Requirement already satisfied: xlsxwriter in /usr/local/lib/python3.6/dist-packages (from pandapower) (1.3.7)\n",
            "Requirement already satisfied: python-dateutil>=2.7.3 in /usr/local/lib/python3.6/dist-packages (from pandas>=0.17->pandapower) (2.8.1)\n",
            "Requirement already satisfied: pytz>=2017.2 in /usr/local/lib/python3.6/dist-packages (from pandas>=0.17->pandapower) (2018.9)\n",
            "Requirement already satisfied: cffi!=1.11.3,>=1.8 in /usr/local/lib/python3.6/dist-packages (from cryptography->pandapower) (1.14.3)\n",
            "Requirement already satisfied: six>=1.4.1 in /usr/local/lib/python3.6/dist-packages (from cryptography->pandapower) (1.15.0)\n",
            "Requirement already satisfied: decorator>=4.3.0 in /usr/local/lib/python3.6/dist-packages (from networkx->pandapower) (4.4.2)\n",
            "Requirement already satisfied: pyparsing>=2.0.2 in /usr/local/lib/python3.6/dist-packages (from packaging->pandapower) (2.4.7)\n",
            "Requirement already satisfied: pycparser in /usr/local/lib/python3.6/dist-packages (from cffi!=1.11.3,>=1.8->cryptography->pandapower) (2.20)\n",
            "Requirement already up-to-date: gspread in /usr/local/lib/python3.6/dist-packages (3.6.0)\n",
            "Requirement already satisfied, skipping upgrade: google-auth-oauthlib>=0.4.1 in /usr/local/lib/python3.6/dist-packages (from gspread) (0.4.2)\n",
            "Requirement already satisfied, skipping upgrade: google-auth>=1.12.0 in /usr/local/lib/python3.6/dist-packages (from gspread) (1.17.2)\n",
            "Requirement already satisfied, skipping upgrade: requests>=2.2.1 in /usr/local/lib/python3.6/dist-packages (from gspread) (2.23.0)\n",
            "Requirement already satisfied, skipping upgrade: requests-oauthlib>=0.7.0 in /usr/local/lib/python3.6/dist-packages (from google-auth-oauthlib>=0.4.1->gspread) (1.3.0)\n",
            "Requirement already satisfied, skipping upgrade: pyasn1-modules>=0.2.1 in /usr/local/lib/python3.6/dist-packages (from google-auth>=1.12.0->gspread) (0.2.8)\n",
            "Requirement already satisfied, skipping upgrade: rsa<5,>=3.1.4; python_version >= \"3\" in /usr/local/lib/python3.6/dist-packages (from google-auth>=1.12.0->gspread) (4.6)\n",
            "Requirement already satisfied, skipping upgrade: cachetools<5.0,>=2.0.0 in /usr/local/lib/python3.6/dist-packages (from google-auth>=1.12.0->gspread) (4.1.1)\n",
            "Requirement already satisfied, skipping upgrade: setuptools>=40.3.0 in /usr/local/lib/python3.6/dist-packages (from google-auth>=1.12.0->gspread) (50.3.2)\n",
            "Requirement already satisfied, skipping upgrade: six>=1.9.0 in /usr/local/lib/python3.6/dist-packages (from google-auth>=1.12.0->gspread) (1.15.0)\n",
            "Requirement already satisfied, skipping upgrade: urllib3!=1.25.0,!=1.25.1,<1.26,>=1.21.1 in /usr/local/lib/python3.6/dist-packages (from requests>=2.2.1->gspread) (1.24.3)\n",
            "Requirement already satisfied, skipping upgrade: chardet<4,>=3.0.2 in /usr/local/lib/python3.6/dist-packages (from requests>=2.2.1->gspread) (3.0.4)\n",
            "Requirement already satisfied, skipping upgrade: certifi>=2017.4.17 in /usr/local/lib/python3.6/dist-packages (from requests>=2.2.1->gspread) (2020.11.8)\n",
            "Requirement already satisfied, skipping upgrade: idna<3,>=2.5 in /usr/local/lib/python3.6/dist-packages (from requests>=2.2.1->gspread) (2.10)\n",
            "Requirement already satisfied, skipping upgrade: oauthlib>=3.0.0 in /usr/local/lib/python3.6/dist-packages (from requests-oauthlib>=0.7.0->google-auth-oauthlib>=0.4.1->gspread) (3.1.0)\n",
            "Requirement already satisfied, skipping upgrade: pyasn1<0.5.0,>=0.4.6 in /usr/local/lib/python3.6/dist-packages (from pyasn1-modules>=0.2.1->google-auth>=1.12.0->gspread) (0.4.8)\n"
          ],
          "name": "stdout"
        }
      ]
    },
    {
      "cell_type": "code",
      "metadata": {
        "id": "6lJYXXfij_Kj"
      },
      "source": [
        "import gspread\n",
        "from oauth2client.client import GoogleCredentials\n",
        "\n",
        "gc = gspread.authorize(GoogleCredentials.get_application_default())"
      ],
      "execution_count": 38,
      "outputs": []
    },
    {
      "cell_type": "markdown",
      "metadata": {
        "id": "wnemZR1L5umS"
      },
      "source": [
        "# Importando bibliotecas necessárias"
      ]
    },
    {
      "cell_type": "code",
      "metadata": {
        "id": "u3B-qNR9YT3J"
      },
      "source": [
        "import pandapower as pp\n",
        "import pandas as pd\n",
        "import pandapower.networks as nw\n",
        "import pandapower.plotting as plot\n",
        "import numpy as np\n",
        "import math\n",
        "import random\n",
        "from matplotlib import pyplot as plt\n",
        "import scipy.io"
      ],
      "execution_count": 39,
      "outputs": []
    },
    {
      "cell_type": "markdown",
      "metadata": {
        "id": "O1RCjcehfNFJ"
      },
      "source": [
        "# Importar a rede de estudo"
      ]
    },
    {
      "cell_type": "code",
      "metadata": {
        "id": "8rrYNolm5ume"
      },
      "source": [
        "#net = nw.ieee_european_lv_asymmetric('off_peak_1')\n",
        "net = nw.ieee_european_lv_asymmetric('on_peak_566')\n",
        "#net = nw.ieee_european_lv_asymmetric('off_peak_1440')\n",
        "\n",
        "# indice de penetracao\n",
        "IP=0.1"
      ],
      "execution_count": 40,
      "outputs": []
    },
    {
      "cell_type": "markdown",
      "metadata": {
        "id": "8gU-DXVnfw_o"
      },
      "source": [
        "# A Partir Daqui são definidas as funções usadas no problemas"
      ]
    },
    {
      "cell_type": "code",
      "metadata": {
        "id": "qcSj7KJBv4-G"
      },
      "source": [
        "def plot_network():\n",
        "    try:\n",
        "        import seaborn\n",
        "        colors = seaborn.color_palette()\n",
        "    except:\n",
        "        colors = [\"b\", \"g\", \"r\", \"c\", \"y\"]\n",
        "    %matplotlib inline\n",
        "\n",
        "    # Plot all the buses\n",
        "    bc = plot.create_bus_collection(net, net.bus.index, size=.2, color=colors[0], zorder=10)\n",
        "\n",
        "    #Plot Transformers\n",
        "    tlc, tpc = plot.create_trafo_collection(net, net.trafo.index, color=\"g\",size =1.5 )\n",
        "\n",
        "    # Plot all the lines\n",
        "    lcd = plot.create_line_collection(net, net.line.index, color=\"grey\", linewidths=0.5, use_bus_geodata=True)\n",
        "\n",
        "    # Plot the external grid\n",
        "    sc = plot.create_bus_collection(net, net.ext_grid.bus.values, patch_type=\"poly3\", size=1, color=\"c\", zorder=11)\n",
        "\n",
        "    #Plot all the loads\n",
        "    ldA = plot.create_bus_collection(net, net.asymmetric_load.bus.values[np.where(net.asymmetric_load.p_a_mw >0)], patch_type=\"poly3\", size=.5, color=\"r\", zorder=11)\n",
        "    ldB = plot.create_bus_collection(net, net.asymmetric_load.bus.values[np.where(net.asymmetric_load.p_b_mw >0)], patch_type=\"rect\", size=.5, color=\"y\", zorder=11)\n",
        "    ldC = plot.create_bus_collection(net, net.asymmetric_load.bus.values[np.where(net.asymmetric_load.p_c_mw >0)], patch_type=\"circle\", size=.5, color=\"b\", zorder=11)\n",
        "\n",
        "    # Plot the max. loaded line and max. unbalanced node\n",
        "    max_load = plot.create_line_collection(net, np.array([net.res_line_3ph.loading_percent.idxmax()]), color=\"black\", linewidths=15, use_bus_geodata=True)\n",
        "    max_unbal = plot.create_bus_collection(net, np.array([net.res_bus_3ph.unbalance_percent.idxmax()]), patch_type=\"rect\", size=1, color=\"black\", zorder=11)\n",
        "\n",
        "    # Draw all the collected plots\n",
        "    plot.draw_collections([lcd, bc, tlc, tpc, sc,ldA,ldB,ldC,max_load,max_unbal], figsize=(20,20))\n",
        "    \n",
        "# plot_network()"
      ],
      "execution_count": 41,
      "outputs": []
    },
    {
      "cell_type": "code",
      "metadata": {
        "id": "ohWvApWrbnB-"
      },
      "source": [
        "#r_cap = pd.read_csv('/content/drive/My Drive/TCC_2020/Matlab_legacy/Mestrado_Marina/Resid_2018_06_30_database2.csv',header=0)\n",
        "# Read source file with installed capacities information\n",
        "\n",
        "Resid_2018_06_30_database2 = gc.open_by_key('1DhTztu3fBIn6-2viEA_ygPwIKlgyh18wtEh9o_0JDO0').get_worksheet(0)\n",
        "r_cap = pd.DataFrame(Resid_2018_06_30_database2.col_values(1))\n",
        "\n",
        "\n",
        "#r_cap.at[3,\"resid_cap_vals\"]\n",
        "r_cap = r_cap.drop([0])\n",
        "r_cap[0] = pd.to_numeric(r_cap[0])\n",
        "# r_cap"
      ],
      "execution_count": 42,
      "outputs": []
    },
    {
      "cell_type": "code",
      "metadata": {
        "id": "ZPjA3JLXa858"
      },
      "source": [
        "def Allocate_PV(Transformer_capacity, Penetration_index, Nb_Load):\n",
        "\n",
        "  Total_PV_cap = Transformer_capacity*Penetration_index/100\n",
        "\n",
        "  #Select maximum installed capacity (in kWp)\n",
        "  max_cap = 15\n",
        "\n",
        "  k=1;\n",
        "  cap = []\n",
        "  for i in range(len(r_cap)):\n",
        "    if (r_cap.at[i+1,0]<= max_cap): # Pega apenas os valores de PV menores que o valor max_cap\n",
        "        cap.append(r_cap.at[i+1,0])\n",
        "        k=k+1\n",
        "\n",
        "  #Sturges rule\n",
        "  n_bins = 1 + 3.322*(math.log(len(cap))/math.log(10))\n",
        "  n_bins = round(n_bins)\n",
        "  n_bins *= 2\n",
        "\n",
        "  # Generating histogram from actual installed capacity data\n",
        "  (n, bins, patches) = plt.hist(cap,bins=n_bins)\n",
        "  h_edges = bins\n",
        "  h_val = n\n",
        "\n",
        "  #Getting the installed capacities to be randomly sorted\n",
        "  PV_cap = []\n",
        "  for i in range(len(h_edges)-1):\n",
        "    PV_cap.append( (h_edges[i]+h_edges[i+1])/2 )\n",
        "\n",
        "  # Assembling CDF of installed capacities\n",
        "  kwp_cdf = []\n",
        "  for i in range(len(PV_cap)+1):\n",
        "      kwp_cdf.append( sum(h_val[1:i-1])/sum(h_val) )\n",
        "\n",
        "  # Getting the installed capacity for each PV system\n",
        "  Total_cap = 0;\n",
        "  Nb_PV =1;\n",
        "  k = 1;\n",
        "  sorted_Cap = []\n",
        "  while Total_cap <= Total_PV_cap:\n",
        "      kk=1\n",
        "      sort = random.random()\n",
        "      while sort > kwp_cdf[kk]: #Achar o kk que representa em que ponto do histograma acumulado está o número sorteado\n",
        "          kk=kk+1\n",
        "      \n",
        "      if Nb_PV<=Nb_Load:\n",
        "          sorted_Cap.append(PV_cap[kk-1]) #confirmar\n",
        "          Total_cap = Total_cap + sorted_Cap[-1] #confirmar\n",
        "      else:\n",
        "          x = random.randint(Nb_Load) \n",
        "          sorted_Cap[x] = sorted_Cap[x]+PV_cap[kk-1]\n",
        "          Total_cap = Total_cap + PV_cap[kk-1]\n",
        "        \n",
        "      Nb_PV=Nb_PV+1\n",
        "\n",
        "  Total_cap\n",
        "  Nb_PV = len(sorted_Cap)\n",
        "  PV_location=[]\n",
        "  # sorting the location of the Nb_PV systems\n",
        "  for i in range(0,Nb_PV,1):\n",
        "      aux=np.random.choice(np.arange(1,Nb_Load))\n",
        "      PV_location.append( aux)  \n",
        "  #sorted_Cap = 0\n",
        "  #PV_location = 0\n",
        "  #Nb_PV = 0\n",
        "  return (sorted_Cap, PV_location, Nb_PV)\n",
        "# Allocate_PV(Transformer_capacity=880, Penetration_index=20, Nb_Load=55)"
      ],
      "execution_count": 43,
      "outputs": []
    },
    {
      "cell_type": "code",
      "metadata": {
        "id": "d0OhpjFcZLBl"
      },
      "source": [
        "Curvas_extraidas = gc.open_by_key('1QoDRqg0pOoEJ2diETBuhl1k_IaBOakuVQfUQG2t4jg0')\n",
        "\n",
        "x1 = pd.DataFrame(Curvas_extraidas.worksheet('Deviation').col_values(1)) #hora\n",
        "DP = pd.DataFrame(Curvas_extraidas.worksheet('Deviation').col_values(2)) #Desvio Padrao\n",
        "x1 = x1.drop([0])\n",
        "x1[0] = x1[0].str.replace(\",\", \".\").astype(float)\n",
        "DP = DP.drop([0])\n",
        "DP[0] = DP[0].str.replace(\",\", \".\").astype(float)\n",
        "\n",
        "x2 = pd.DataFrame(Curvas_extraidas.worksheet('Mean').col_values(1))\n",
        "perfil = pd.DataFrame(Curvas_extraidas.worksheet('Mean').col_values(2))\n",
        "x2[0] = x2[0].str.replace(\",\", \".\").astype(float)\n",
        "perfil[0] = perfil[0].str.replace(\",\", \".\").astype(float)\n"
      ],
      "execution_count": 44,
      "outputs": []
    },
    {
      "cell_type": "code",
      "metadata": {
        "id": "VfD0qPpsWpy0"
      },
      "source": [
        "# Função Desvio Padrão \n",
        "def Desvio_Padrao(t0, tf, ss_res):\n",
        "    t0;  tf;  ss_res \n",
        "    td= np.arange(0,24,ss_res/60)\n",
        "\n",
        "    Curvas_extraidas = gc.open_by_key('1QoDRqg0pOoEJ2diETBuhl1k_IaBOakuVQfUQG2t4jg0')\n",
        "    x1 = pd.DataFrame(Curvas_extraidas.worksheet('Deviation').col_values(1)) #hora\n",
        "    DP = pd.DataFrame(Curvas_extraidas.worksheet('Deviation').col_values(2)) #Desvio Padrao\n",
        "    x1 = x1.drop([0])\n",
        "    x1[0] = x1[0].str.replace(\",\", \".\").astype(float)\n",
        "    DP = DP.drop([0])\n",
        "    DP[0] = DP[0].str.replace(\",\", \".\").astype(float)\n",
        "    DP=DP.to_numpy().transpose()\n",
        "    time = x1.to_numpy().transpose()\n",
        "    t1 = np.nonzero(td==t0)[0][0]\n",
        "    t2 = np.nonzero(td==tf)[0][0]\n",
        "\n",
        "    c = scipy.interpolate.splrep(time[0],DP[0],s=0)\n",
        "    DP_t1t2 = scipy.interpolate.splev(td[t1:t2], c, der=0)\n",
        "    #DP=spline(time,DP,td(t1:t2)) # Cubic spline data interpolation\n",
        "\n",
        "    return DP_t1t2"
      ],
      "execution_count": 45,
      "outputs": []
    },
    {
      "cell_type": "code",
      "metadata": {
        "id": "hF-kwZ0cezeo"
      },
      "source": [
        "# Função Perfil de Carga\n",
        "def Perfil_de_Carga(t0, tf, ss_res):\n",
        "    t0;tf; ss_res\n",
        "    # td= [0:ss_res/60:24]; \n",
        "    td = np.arange(0,24,ss_res/60)\n",
        "    Curvas_extraidas = gc.open_by_key('1QoDRqg0pOoEJ2diETBuhl1k_IaBOakuVQfUQG2t4jg0')\n",
        "    x2 = pd.DataFrame(Curvas_extraidas.worksheet('Mean').col_values(1))\n",
        "    perfil = pd.DataFrame(Curvas_extraidas.worksheet('Mean').col_values(2))\n",
        "    \n",
        "    x2 = x2.drop([0])\n",
        "    x2[0] = x2[0].str.replace(\",\", \".\").astype(float)\n",
        "    \n",
        "    perfil = perfil.drop([0])\n",
        "    perfil[0] = perfil[0].str.replace(\",\", \".\").astype(float)\n",
        "    \n",
        "    perfil=perfil.to_numpy().transpose()\n",
        "\n",
        "\n",
        "    time1 = x2.to_numpy().transpose()\n",
        "    t1 = np.nonzero(td==t0)[0][0]\n",
        "    t2 = np.nonzero(td==tf)[0][0]  \n",
        "\n",
        "    #PC = spline(time1,perfil,td(t1:t2));\n",
        "    d = scipy.interpolate.splrep(time1[0],perfil[0],s=0)\n",
        "    PC = scipy.interpolate.splev(td[t1:t2], d, der=0)\n",
        "    return PC\n"
      ],
      "execution_count": 46,
      "outputs": []
    },
    {
      "cell_type": "markdown",
      "metadata": {
        "id": "ntKGyOJa3Ghs"
      },
      "source": [
        "# Código principal com as variáveis do problema e o loop de Monte Carlo"
      ]
    },
    {
      "cell_type": "code",
      "metadata": {
        "id": "oIyLPB6degY1",
        "colab": {
          "base_uri": "https://localhost:8080/",
          "height": 1000
        },
        "outputId": "841954a5-ddd8-44b4-bf45-1d93f6c280ec"
      },
      "source": [
        "# Define Snapshot Resolution\n",
        "ss_res = 15; # in minutes\n",
        "\n",
        "# Define Number of hours of simulation\n",
        "t0=11\n",
        "tf=13\n",
        "Nb_h = tf-t0\n",
        "\n",
        "Transformer_capacity = 800\n",
        "Penetration_index = 5\n",
        "\n",
        "# Calculate the number of snapshots Nb_ss\n",
        "Nb_ss = Nb_h*60/ss_res+1\n",
        "Nb_ss=int(Nb_ss)\n",
        "#if Penetration_index ~= 0\n",
        "      \n",
        "# Load profile\n",
        "\n",
        "P_inst = 15\n",
        "pf= 1\n",
        "\n",
        "Std_load = Desvio_Padrao(t0, tf, ss_res)\n",
        "Avg_load = Perfil_de_Carga(t0, tf, ss_res)\n",
        "\n",
        "#base = xlsread('Cargamediabase.xlsx')\n",
        "Cargamediabase = gc.open_by_key('1iI3d8zT_uc4HTmHmIdHPWYaoFvVmdkgKFTmLQreN2D8')\n",
        "base = pd.DataFrame(Cargamediabase.worksheet('Plan1').col_values(1))\n",
        "base = base.drop([0])\n",
        "base[0] = base[0].str.replace(\",\", \".\").astype(float)\n",
        "\n",
        "#disp('Parameters of the simulation are defined.')\n",
        "\n",
        "#tic # Contador de tempo\n",
        "\n",
        "MCM=1 # Contador do numero de simulacoes\n",
        "\n",
        "# Criterio de parada inicializacao\n",
        "stop_crita = 1\n",
        "stop_critb = 1\n",
        "stop_critc = 1\n",
        "\n",
        "erroa = np.zeros((666))\n",
        "errob= np.zeros((666))\n",
        "erroc= np.zeros((666))\n",
        "# Determinam o limite das barras no histograma\n",
        "#edges = 0.8:0.02:1.2\n",
        "edges = np.arange(0.8,1.22,0.02)\n",
        "# Erro relativo \n",
        "sensivity = 1/10000000\n",
        "\n",
        "while (100000*stop_crita>=sensivity or 100000*stop_critb>=sensivity or 100000*stop_critc>=sensivity):\n",
        " \n",
        "    MCM\n",
        "   \n",
        "    Nb_Load = len(net.asymmetric_load) # numero de barras\n",
        "    \n",
        "    #%% Create load profiles \n",
        "    Load_kW=np.zeros((Nb_Load,int(Nb_ss)))  \n",
        "    for i in range(0,Nb_Load-1):\n",
        "        for j in range(0,int(Nb_ss)-1): #number of snapshots\n",
        "            Load_kW[i][j] = (Avg_load[j] + Std_load[j]*random.random())*base[0][i+1]\n",
        "\n",
        "    print('Load profiles created successfully')\n",
        "   \n",
        "    ## Create PV systems\n",
        "    \n",
        "    if (Penetration_index != 0): \n",
        "      sorted_Cap, PV_location, Nb_PV = Allocate_PV(Transformer_capacity, Penetration_index, Nb_Load);\n",
        "\n",
        "      for i in range(1,Nb_PV,1):\n",
        "        pp.create_sgen(net, bus=PV_location[i], p_mw=sorted_Cap[i], q_mvar=0)\n",
        "    \n",
        "        print('PV systems created successfully');\n",
        "    \n",
        "        # Create Solar irradiation profiles\n",
        "        # Section will be under heavy work after profiles are defined\n",
        "    \n",
        "        #G = Perfil_Irradiacao_Solar(t0, tf, Nb_ss, Nb_PV, ss_res);\n",
        "      \n",
        "        #print('Solar irradiance profiles created successfully');\n",
        "    \n",
        "        # if IP diferente de zero\n",
        "\n",
        "    ## Snapshot solving\n",
        "    \n",
        "    for i in range(1,int(Nb_ss),1):\n",
        "\n",
        "        for j in range(1,Nb_Load,1):\n",
        "\n",
        "            if net.asymmetric_load.at[j,'p_a_mw'] != 0:\n",
        "                net.asymmetric_load.at[j,'p_a_mw']= Load_kW[j,i]/1000;\n",
        "            elif net.asymmetric_load.at[j,'p_b_mw'] != 0:\n",
        "                net.asymmetric_load.at[j,'p_b_mw']= Load_kW[j,i]/1000;\n",
        "            elif net.asymmetric_load.at[j,'p_c_mw'] != 0:\n",
        "                net.asymmetric_load.at[j,'p_b_mw']= Load_kW[j,i]/1000;\n",
        "        \n",
        "        if Penetration_index != 0:       \n",
        "            # Inputing Solar irradiance into PV Systems\n",
        "           # for j= in range(1,Nb_PV,1):\n",
        "               # DSSCircuit.PVSystems.Irradiance = G(j,i);\n",
        "               # G_PV(j,i) = DSSCircuit.PVSystem.Irradiance;\n",
        "               # iPV=DSSCircuit.PVSystems.Next;\n",
        "                          \n",
        "            # Solve Snapshot\n",
        "            pp.pf.runpp_3ph.runpp_3ph(net)\n",
        "            Load_Ia=np.zeros((Nb_Load,Nb_ss,666))\n",
        "            Load_Ib=np.zeros((Nb_Load,Nb_ss,666))\n",
        "            Load_Ic=np.zeros((Nb_Load,Nb_ss,666))\n",
        "            # Results gathering\n",
        "            for j in range(0,Nb_Load,1):\n",
        "                Load_Ia[j][i][MCM] = net.res_line_3ph.loading_a_percent[j]\n",
        "                Load_Ib[j][i][MCM] = net.res_line_3ph.loading_b_percent[j]\n",
        "                Load_Ic[j][i][MCM] = net.res_line_3ph.loading_c_percent[j]\n",
        "\n",
        "    Load_Ia_2d = []\n",
        "    Load_Ib_2d = []\n",
        "    Load_Ic_2d = []\n",
        "\n",
        "    #convert 3D array to 2D\n",
        "    Load_Ia_2d=np.zeros((Nb_ss*Nb_Load,MCM))\n",
        "    Load_Ib_2d=np.zeros((Nb_ss*Nb_Load,MCM))\n",
        "    Load_Ic_2d=np.zeros((Nb_ss*Nb_Load,MCM))\n",
        "    for k in range(1,MCM,1):\n",
        "      for i in range(1,Nb_ss,1):\n",
        "        for j in range(1,Nb_Load,1):\n",
        "          Load_Ia_2d[(i-1)*Nb_ss+j][k] = Load_Ia[j][i][k]\n",
        "          Load_Ib_2d[(i-1)*Nb_ss+j][k] = Load_Ib[j][i][k]\n",
        "          Load_Ic_2d[(i-1)*Nb_ss+j][k] = Load_Ic[j][i][k]\n",
        "\n",
        "\n",
        "    if MCM>=2:\n",
        "        (h1val, bins1, patches1) = plt.hist(Load_Ia_2d[:,1:MCM-1],bins=edges)\n",
        "        h1val = h1val/sum(h1val)\n",
        "        \n",
        "        (h2val, bins2, patches2) = plt.hist(Load_Ia_2d[:,1:MCM],bins=edges)\n",
        "        h2val = h2val/sum(h2val)\n",
        "        \n",
        "        distance = h1val-h2val\n",
        "        \n",
        "        stop_crita = np.linalg.norm(distance, ord=len(distance))\n",
        "        erroa[MCM] = stop_crita\n",
        "        \n",
        "\n",
        "        (h1val, bins1, patches1) = plt.hist(Load_Ib_2d[:,1:MCM-1],bins=edges)\n",
        "        h1val = h1val/sum(h1val)\n",
        "        \n",
        "        (h2val, bins2, patches2) = plt.hist(Load_Ib_2d[:,1:MCM],bins=edges)\n",
        "        h2val = h2val/sum(h2val)\n",
        "        \n",
        "        distance = h1val-h2val\n",
        "        \n",
        "        stop_critb = np.linalg.norm(distance, ord=len(distance))\n",
        "        errob[MCM] = stop_critb\n",
        "        \n",
        "        \n",
        "        (h1val, bins1, patches1) = plt.hist(Load_Ic_2d[:,1:MCM-1],bins=edges)\n",
        "        h1val = h1val/sum(h1val)\n",
        "        \n",
        "        (h2val, bins2, patches2) = plt.hist(Load_Ic_2d[:,1:MCM],bins=edges)\n",
        "        h2val = h2val/sum(h2val)\n",
        "        \n",
        "        distance = h1val-h2val\n",
        "        \n",
        "        stop_critc = np.linalg.norm(distance, ord=len(distance))\n",
        "        erroc[MCM] = stop_critc\n",
        "\n",
        "        \n",
        "    MCM = MCM+1;\n",
        "    \n",
        "\n",
        "print('MCS converged successfully')"
      ],
      "execution_count": 61,
      "outputs": [
        {
          "output_type": "stream",
          "text": [
            "Load profiles created successfully\n",
            "PV systems created successfully\n",
            "PV systems created successfully\n",
            "PV systems created successfully\n",
            "PV systems created successfully\n",
            "PV systems created successfully\n",
            "PV systems created successfully\n",
            "PV systems created successfully\n",
            "PV systems created successfully\n",
            "PV systems created successfully\n"
          ],
          "name": "stdout"
        },
        {
          "output_type": "stream",
          "text": [
            "/usr/local/lib/python3.6/dist-packages/scipy/sparse/linalg/dsolve/linsolve.py:198: MatrixRankWarning:\n",
            "\n",
            "Matrix is exactly singular\n",
            "\n",
            "/usr/local/lib/python3.6/dist-packages/scipy/sparse/linalg/dsolve/linsolve.py:198: MatrixRankWarning:\n",
            "\n",
            "Matrix is exactly singular\n",
            "\n",
            "/usr/local/lib/python3.6/dist-packages/pandapower/pf/runpp_3ph.py:503: RuntimeWarning:\n",
            "\n",
            "invalid value encountered in greater\n",
            "\n",
            "/usr/local/lib/python3.6/dist-packages/scipy/sparse/linalg/dsolve/linsolve.py:198: MatrixRankWarning:\n",
            "\n",
            "Matrix is exactly singular\n",
            "\n",
            "/usr/local/lib/python3.6/dist-packages/scipy/sparse/linalg/dsolve/linsolve.py:198: MatrixRankWarning:\n",
            "\n",
            "Matrix is exactly singular\n",
            "\n",
            "/usr/local/lib/python3.6/dist-packages/pandapower/pf/runpp_3ph.py:503: RuntimeWarning:\n",
            "\n",
            "invalid value encountered in greater\n",
            "\n",
            "/usr/local/lib/python3.6/dist-packages/scipy/sparse/linalg/dsolve/linsolve.py:198: MatrixRankWarning:\n",
            "\n",
            "Matrix is exactly singular\n",
            "\n",
            "/usr/local/lib/python3.6/dist-packages/scipy/sparse/linalg/dsolve/linsolve.py:198: MatrixRankWarning:\n",
            "\n",
            "Matrix is exactly singular\n",
            "\n",
            "/usr/local/lib/python3.6/dist-packages/pandapower/pf/runpp_3ph.py:503: RuntimeWarning:\n",
            "\n",
            "invalid value encountered in greater\n",
            "\n",
            "/usr/local/lib/python3.6/dist-packages/scipy/sparse/linalg/dsolve/linsolve.py:198: MatrixRankWarning:\n",
            "\n",
            "Matrix is exactly singular\n",
            "\n",
            "/usr/local/lib/python3.6/dist-packages/scipy/sparse/linalg/dsolve/linsolve.py:198: MatrixRankWarning:\n",
            "\n",
            "Matrix is exactly singular\n",
            "\n",
            "/usr/local/lib/python3.6/dist-packages/pandapower/pf/runpp_3ph.py:503: RuntimeWarning:\n",
            "\n",
            "invalid value encountered in greater\n",
            "\n",
            "/usr/local/lib/python3.6/dist-packages/scipy/sparse/linalg/dsolve/linsolve.py:198: MatrixRankWarning:\n",
            "\n",
            "Matrix is exactly singular\n",
            "\n",
            "/usr/local/lib/python3.6/dist-packages/scipy/sparse/linalg/dsolve/linsolve.py:198: MatrixRankWarning:\n",
            "\n",
            "Matrix is exactly singular\n",
            "\n",
            "/usr/local/lib/python3.6/dist-packages/pandapower/pf/runpp_3ph.py:503: RuntimeWarning:\n",
            "\n",
            "invalid value encountered in greater\n",
            "\n",
            "/usr/local/lib/python3.6/dist-packages/pandapower/pf/create_jacobian.py:18: RuntimeWarning:\n",
            "\n",
            "invalid value encountered in true_divide\n",
            "\n",
            "/usr/local/lib/python3.6/dist-packages/scipy/sparse/linalg/dsolve/linsolve.py:198: MatrixRankWarning:\n",
            "\n",
            "Matrix is exactly singular\n",
            "\n",
            "/usr/local/lib/python3.6/dist-packages/scipy/sparse/linalg/dsolve/linsolve.py:198: MatrixRankWarning:\n",
            "\n",
            "Matrix is exactly singular\n",
            "\n",
            "/usr/local/lib/python3.6/dist-packages/pandapower/pf/runpp_3ph.py:503: RuntimeWarning:\n",
            "\n",
            "invalid value encountered in greater\n",
            "\n",
            "/usr/local/lib/python3.6/dist-packages/scipy/sparse/linalg/dsolve/linsolve.py:198: MatrixRankWarning:\n",
            "\n",
            "Matrix is exactly singular\n",
            "\n",
            "/usr/local/lib/python3.6/dist-packages/scipy/sparse/linalg/dsolve/linsolve.py:198: MatrixRankWarning:\n",
            "\n",
            "Matrix is exactly singular\n",
            "\n",
            "/usr/local/lib/python3.6/dist-packages/pandapower/pf/runpp_3ph.py:503: RuntimeWarning:\n",
            "\n",
            "invalid value encountered in greater\n",
            "\n",
            "/usr/local/lib/python3.6/dist-packages/scipy/sparse/linalg/dsolve/linsolve.py:198: MatrixRankWarning:\n",
            "\n",
            "Matrix is exactly singular\n",
            "\n",
            "/usr/local/lib/python3.6/dist-packages/scipy/sparse/linalg/dsolve/linsolve.py:198: MatrixRankWarning:\n",
            "\n",
            "Matrix is exactly singular\n",
            "\n",
            "/usr/local/lib/python3.6/dist-packages/pandapower/pf/runpp_3ph.py:503: RuntimeWarning:\n",
            "\n",
            "invalid value encountered in greater\n",
            "\n"
          ],
          "name": "stderr"
        },
        {
          "output_type": "stream",
          "text": [
            "Load profiles created successfully\n",
            "PV systems created successfully\n",
            "PV systems created successfully\n",
            "PV systems created successfully\n",
            "PV systems created successfully\n",
            "PV systems created successfully\n",
            "PV systems created successfully\n",
            "PV systems created successfully\n",
            "PV systems created successfully\n",
            "PV systems created successfully\n",
            "PV systems created successfully\n",
            "PV systems created successfully\n",
            "PV systems created successfully\n",
            "PV systems created successfully\n",
            "PV systems created successfully\n"
          ],
          "name": "stdout"
        },
        {
          "output_type": "stream",
          "text": [
            "/usr/local/lib/python3.6/dist-packages/scipy/sparse/linalg/dsolve/linsolve.py:198: MatrixRankWarning:\n",
            "\n",
            "Matrix is exactly singular\n",
            "\n",
            "/usr/local/lib/python3.6/dist-packages/scipy/sparse/linalg/dsolve/linsolve.py:198: MatrixRankWarning:\n",
            "\n",
            "Matrix is exactly singular\n",
            "\n",
            "/usr/local/lib/python3.6/dist-packages/pandapower/pf/runpp_3ph.py:503: RuntimeWarning:\n",
            "\n",
            "invalid value encountered in greater\n",
            "\n",
            "/usr/local/lib/python3.6/dist-packages/scipy/sparse/linalg/dsolve/linsolve.py:198: MatrixRankWarning:\n",
            "\n",
            "Matrix is exactly singular\n",
            "\n",
            "/usr/local/lib/python3.6/dist-packages/scipy/sparse/linalg/dsolve/linsolve.py:198: MatrixRankWarning:\n",
            "\n",
            "Matrix is exactly singular\n",
            "\n",
            "/usr/local/lib/python3.6/dist-packages/pandapower/pf/runpp_3ph.py:503: RuntimeWarning:\n",
            "\n",
            "invalid value encountered in greater\n",
            "\n",
            "/usr/local/lib/python3.6/dist-packages/scipy/sparse/linalg/dsolve/linsolve.py:198: MatrixRankWarning:\n",
            "\n",
            "Matrix is exactly singular\n",
            "\n",
            "/usr/local/lib/python3.6/dist-packages/scipy/sparse/linalg/dsolve/linsolve.py:198: MatrixRankWarning:\n",
            "\n",
            "Matrix is exactly singular\n",
            "\n",
            "/usr/local/lib/python3.6/dist-packages/pandapower/pf/runpp_3ph.py:503: RuntimeWarning:\n",
            "\n",
            "invalid value encountered in greater\n",
            "\n",
            "/usr/local/lib/python3.6/dist-packages/scipy/sparse/linalg/dsolve/linsolve.py:198: MatrixRankWarning:\n",
            "\n",
            "Matrix is exactly singular\n",
            "\n",
            "/usr/local/lib/python3.6/dist-packages/scipy/sparse/linalg/dsolve/linsolve.py:198: MatrixRankWarning:\n",
            "\n",
            "Matrix is exactly singular\n",
            "\n",
            "/usr/local/lib/python3.6/dist-packages/pandapower/pf/runpp_3ph.py:503: RuntimeWarning:\n",
            "\n",
            "invalid value encountered in greater\n",
            "\n",
            "/usr/local/lib/python3.6/dist-packages/scipy/sparse/linalg/dsolve/linsolve.py:198: MatrixRankWarning:\n",
            "\n",
            "Matrix is exactly singular\n",
            "\n",
            "/usr/local/lib/python3.6/dist-packages/scipy/sparse/linalg/dsolve/linsolve.py:198: MatrixRankWarning:\n",
            "\n",
            "Matrix is exactly singular\n",
            "\n",
            "/usr/local/lib/python3.6/dist-packages/pandapower/pf/runpp_3ph.py:503: RuntimeWarning:\n",
            "\n",
            "invalid value encountered in greater\n",
            "\n",
            "/usr/local/lib/python3.6/dist-packages/scipy/sparse/linalg/dsolve/linsolve.py:198: MatrixRankWarning:\n",
            "\n",
            "Matrix is exactly singular\n",
            "\n",
            "/usr/local/lib/python3.6/dist-packages/scipy/sparse/linalg/dsolve/linsolve.py:198: MatrixRankWarning:\n",
            "\n",
            "Matrix is exactly singular\n",
            "\n",
            "/usr/local/lib/python3.6/dist-packages/pandapower/pf/runpp_3ph.py:503: RuntimeWarning:\n",
            "\n",
            "invalid value encountered in greater\n",
            "\n",
            "/usr/local/lib/python3.6/dist-packages/scipy/sparse/linalg/dsolve/linsolve.py:198: MatrixRankWarning:\n",
            "\n",
            "Matrix is exactly singular\n",
            "\n",
            "/usr/local/lib/python3.6/dist-packages/scipy/sparse/linalg/dsolve/linsolve.py:198: MatrixRankWarning:\n",
            "\n",
            "Matrix is exactly singular\n",
            "\n",
            "/usr/local/lib/python3.6/dist-packages/pandapower/pf/runpp_3ph.py:503: RuntimeWarning:\n",
            "\n",
            "invalid value encountered in greater\n",
            "\n",
            "/usr/local/lib/python3.6/dist-packages/scipy/sparse/linalg/dsolve/linsolve.py:198: MatrixRankWarning:\n",
            "\n",
            "Matrix is exactly singular\n",
            "\n",
            "/usr/local/lib/python3.6/dist-packages/scipy/sparse/linalg/dsolve/linsolve.py:198: MatrixRankWarning:\n",
            "\n",
            "Matrix is exactly singular\n",
            "\n",
            "/usr/local/lib/python3.6/dist-packages/pandapower/pf/runpp_3ph.py:503: RuntimeWarning:\n",
            "\n",
            "invalid value encountered in greater\n",
            "\n",
            "/usr/local/lib/python3.6/dist-packages/ipykernel_launcher.py:133: RuntimeWarning:\n",
            "\n",
            "invalid value encountered in true_divide\n",
            "\n",
            "/usr/local/lib/python3.6/dist-packages/ipykernel_launcher.py:136: RuntimeWarning:\n",
            "\n",
            "invalid value encountered in true_divide\n",
            "\n",
            "/usr/local/lib/python3.6/dist-packages/ipykernel_launcher.py:145: RuntimeWarning:\n",
            "\n",
            "invalid value encountered in true_divide\n",
            "\n",
            "/usr/local/lib/python3.6/dist-packages/ipykernel_launcher.py:148: RuntimeWarning:\n",
            "\n",
            "invalid value encountered in true_divide\n",
            "\n",
            "/usr/local/lib/python3.6/dist-packages/ipykernel_launcher.py:157: RuntimeWarning:\n",
            "\n",
            "invalid value encountered in true_divide\n",
            "\n",
            "/usr/local/lib/python3.6/dist-packages/ipykernel_launcher.py:160: RuntimeWarning:\n",
            "\n",
            "invalid value encountered in true_divide\n",
            "\n"
          ],
          "name": "stderr"
        },
        {
          "output_type": "stream",
          "text": [
            "MCS converged successfully\n"
          ],
          "name": "stdout"
        },
        {
          "output_type": "display_data",
          "data": {
            "image/png": "[encoded data removed]",
            "text/plain": [
              "<Figure size 432x288 with 1 Axes>"
            ]
          },
          "metadata": {
            "tags": [],
            "needs_background": "light"
          }
        }
      ]
    },
    {
      "cell_type": "code",
      "metadata": {
        "colab": {
          "base_uri": "https://localhost:8080/"
        },
        "id": "IKOz29CUSG2-",
        "outputId": "a15f74a2-13f5-4c67-eaf4-1275d4710f80"
      },
      "source": [
        "MCM"
      ],
      "execution_count": 62,
      "outputs": [
        {
          "output_type": "execute_result",
          "data": {
            "text/plain": [
              "3"
            ]
          },
          "metadata": {
            "tags": []
          },
          "execution_count": 62
        }
      ]
    },
    {
      "cell_type": "markdown",
      "metadata": {
        "id": "s1ImnkxW2ipW"
      },
      "source": [
        "# Análise e Print dos Gráficos"
      ]
    },
    {
      "cell_type": "code",
      "metadata": {
        "id": "iA_ATwpw2q_X"
      },
      "source": [
        "#Cálculo do percentual de transgressões por barra\n",
        "\n",
        "Nb_Transg = np.zeros((Nb_Load));\n",
        "Nb_TransgSub = np.zeros((Nb_Load));\n",
        "Nb_TransgSobre = np.zeros((Nb_Load));\n",
        "\n",
        "\n",
        "for i in range(0,Nb_Load,1):\n",
        "    for j in range(0,MCM-1,1):\n",
        "        for k in range(0,Nb_ss,1):\n",
        "            if (Load_Ia[i][k][j]<0.95 or Load_Ia[i][k][j]>1.05):\n",
        "                Nb_Transg[i]=Nb_Transg[i]+1\n",
        "                if (Load_Ib[i][k][j]<0.95 or Load_Ib[i][k][j]>1.05):\n",
        "                    Nb_Transg[i]=Nb_Transg[i]+1\n",
        "                    if (Load_Ic[i][k][j]<0.95 or Load_Ic[i][k][j]>1.05):\n",
        "                        Nb_Transg[i]=Nb_Transg[i]+1\n",
        "\n",
        "\n",
        "for i in range(0,Nb_Load,1):\n",
        "    for j in range(0,MCM-1,1):\n",
        "        for k in range(0,Nb_ss,1):\n",
        "             if (Load_Ia[i][k][j]<0.95):\n",
        "                Nb_TransgSub[i]=Nb_TransgSub[i]+1\n",
        "                if (Load_Ib[i][k][j]<0.95):\n",
        "                    Nb_TransgSub[i]=Nb_TransgSub[i]+1\n",
        "                    if (Load_Ic[i][k][j]<0.95):\n",
        "                          Nb_TransgSub[i]=Nb_TransgSub[i]+1  \n",
        "  \n",
        "for i in range(0,Nb_Load,1):\n",
        "    for j in range(0,MCM-1,1):\n",
        "        for k in range(0,Nb_ss,1):\n",
        "            if (Load_Ia[i][k][j]>1.05):\n",
        "                Nb_TransgSobre[i]=Nb_TransgSobre[i]+1;\n",
        "                if (Load_Ib[i][k][j]>1.05):\n",
        "                    Nb_TransgSobre[i]=Nb_TransgSobre[i]+1;\n",
        "                    if (Load_Ic[i][k][j]>1.05):\n",
        "                          Nb_TransgSobre[i]=Nb_TransgSobre[i]+1;  \n",
        "\n",
        "Total_Transg = sum(Nb_Transg);\n",
        "Total_Sub = sum(Nb_TransgSub);\n",
        "Total_Sobre = sum(Nb_TransgSobre);\n",
        "\n",
        "Nb_Values = Nb_Load*3*Nb_ss*(MCM-1);\n",
        "Prob_Transg = Nb_Transg/Nb_Values*100;\n",
        "A = np.arange(0,Nb_Load,1);\n",
        "A = np.transpose(A)\n",
        "\n",
        "Prob_Transg_Alim = Total_Transg/Nb_Values*100;\n",
        "Prob_Transg_Sub = Nb_TransgSub/Nb_Values*100;\n",
        "Prob_Transg_Sobre = Nb_TransgSobre/Nb_Values*10;"
      ],
      "execution_count": 49,
      "outputs": []
    },
    {
      "cell_type": "code",
      "metadata": {
        "id": "70lVQty12rKf",
        "colab": {
          "base_uri": "https://localhost:8080/",
          "height": 313
        },
        "outputId": "908587c3-8d65-4d1a-a549-f86746dfcb83"
      },
      "source": [
        "#Resultados de saída \n",
        "\n",
        "(n, bins, patches) = plt.hist(Load_Ia_2d,density=True)\n",
        "plt.ylabel('Percentual de Ocorrência (%)')\n",
        "plt.xlabel('Valores de Tensão (pu)')\n",
        "plt.title('Perfil de Tensão do Sistema - IP = 50%')\n",
        "#h=histogram([Load_Va;Load_Vb;Load_Vc],'Normalization','probability');\n",
        "#title('Perfil de Tensão do Sistema - IP = 50%');\n",
        "#xlabel('Valores de Tensão (pu)');\n",
        "#ylabel('Percentual de Ocorrência (%)')"
      ],
      "execution_count": 50,
      "outputs": [
        {
          "output_type": "execute_result",
          "data": {
            "text/plain": [
              "Text(0.5, 1.0, 'Perfil de Tensão do Sistema - IP = 50%')"
            ]
          },
          "metadata": {
            "tags": []
          },
          "execution_count": 50
        },
        {
          "output_type": "display_data",
          "data": {
            "image/png": "[encoded data removed]",
            "text/plain": [
              "<Figure size 432x288 with 1 Axes>"
            ]
          },
          "metadata": {
            "tags": [],
            "needs_background": "light"
          }
        }
      ]
    },
    {
      "cell_type": "code",
      "metadata": {
        "id": "jhLUfZsu2rJV",
        "colab": {
          "base_uri": "https://localhost:8080/",
          "height": 390
        },
        "outputId": "aac0641c-3b75-4296-da64-07dfac6fbed8"
      },
      "source": [
        "#figure(2);\n",
        "plt.semilogy(erroa);\n",
        "plt.semilogy(errob);\n",
        "plt.semilogy(erroc);\n",
        "plt.title('Índice de Penetração = ');\n",
        "plt.xlabel('Número de Simulações de Monte Carlo (SMC)');\n",
        "plt.ylabel('Distância Euclidiana de Tensão (pu)')"
      ],
      "execution_count": 51,
      "outputs": [
        {
          "output_type": "execute_result",
          "data": {
            "text/plain": [
              "Text(0, 0.5, 'Distância Euclidiana de Tensão (pu)')"
            ]
          },
          "metadata": {
            "tags": []
          },
          "execution_count": 51
        },
        {
          "output_type": "stream",
          "text": [
            "/usr/local/lib/python3.6/dist-packages/google/colab/_event_manager.py:28: UserWarning:\n",
            "\n",
            "Data has no positive values, and therefore cannot be log-scaled.\n",
            "\n"
          ],
          "name": "stderr"
        },
        {
          "output_type": "display_data",
          "data": {
            "image/png": "[encoded data removed]",
            "text/plain": [
              "<Figure size 432x288 with 1 Axes>"
            ]
          },
          "metadata": {
            "tags": [],
            "needs_background": "light"
          }
        }
      ]
    },
    {
      "cell_type": "code",
      "metadata": {
        "id": "EmfS56b22rEK",
        "colab": {
          "base_uri": "https://localhost:8080/",
          "height": 315
        },
        "outputId": "86b29d71-4b1c-4e8a-f088-c69323b7d90b"
      },
      "source": [
        "#figure(3);\n",
        "plt.bar(A,Prob_Transg)\n",
        "plt.xlim((0, Nb_Load))\n",
        "plt.title('Probabilidade de Transgressão de Tensão por Barra de Carga')\n",
        "plt.xlabel('Número da Carga')\n",
        "plt.ylabel('Percentual de Transgressão de Tensão(%)')"
      ],
      "execution_count": 52,
      "outputs": [
        {
          "output_type": "execute_result",
          "data": {
            "text/plain": [
              "Text(0, 0.5, 'Percentual de Transgressão de Tensão(%)')"
            ]
          },
          "metadata": {
            "tags": []
          },
          "execution_count": 52
        },
        {
          "output_type": "display_data",
          "data": {
            "image/png": "[encoded data removed]",
            "text/plain": [
              "<Figure size 432x288 with 1 Axes>"
            ]
          },
          "metadata": {
            "tags": [],
            "needs_background": "light"
          }
        }
      ]
    },
    {
      "cell_type": "code",
      "metadata": {
        "colab": {
          "base_uri": "https://localhost:8080/",
          "height": 315
        },
        "id": "pcOk6LCgwdqE",
        "outputId": "4e6766c1-de9d-43c6-d00a-a9a91fd7f1bb"
      },
      "source": [
        "#figure(4)\n",
        "plt.bar(A,Nb_Transg)\n",
        "plt.xlim((0, Nb_Load))\n",
        "plt.title('Quantidade de Transgressão de Tensão por Barra de Carga')\n",
        "plt.xlabel('Número da Carga')\n",
        "plt.ylabel('Quantidade de Transgressão de Tensão')"
      ],
      "execution_count": 53,
      "outputs": [
        {
          "output_type": "execute_result",
          "data": {
            "text/plain": [
              "Text(0, 0.5, 'Quantidade de Transgressão de Tensão')"
            ]
          },
          "metadata": {
            "tags": []
          },
          "execution_count": 53
        },
        {
          "output_type": "display_data",
          "data": {
            "image/png": "[encoded data removed]",
            "text/plain": [
              "<Figure size 432x288 with 1 Axes>"
            ]
          },
          "metadata": {
            "tags": [],
            "needs_background": "light"
          }
        }
      ]
    },
    {
      "cell_type": "code",
      "metadata": {
        "colab": {
          "base_uri": "https://localhost:8080/",
          "height": 315
        },
        "id": "wSeEkdhUwdyp",
        "outputId": "d13b2284-85fe-4038-e4a6-d5f1d806da4c"
      },
      "source": [
        "#figure(5);\n",
        "plt.bar(A,Nb_TransgSobre);\n",
        "plt.xlim((0, Nb_Load));\n",
        "plt.title('Quantidade de Sobretensão por Barra de Carga');\n",
        "plt.xlabel('Número da Carga')\n",
        "plt.ylabel('Quantidade de Transgressão de Tensão')"
      ],
      "execution_count": 54,
      "outputs": [
        {
          "output_type": "execute_result",
          "data": {
            "text/plain": [
              "Text(0, 0.5, 'Quantidade de Transgressão de Tensão')"
            ]
          },
          "metadata": {
            "tags": []
          },
          "execution_count": 54
        },
        {
          "output_type": "display_data",
          "data": {
            "image/png": "[encoded data removed]",
            "text/plain": [
              "<Figure size 432x288 with 1 Axes>"
            ]
          },
          "metadata": {
            "tags": [],
            "needs_background": "light"
          }
        }
      ]
    },
    {
      "cell_type": "code",
      "metadata": {
        "id": "EB8N3bOiwd7I",
        "colab": {
          "base_uri": "https://localhost:8080/",
          "height": 600
        },
        "outputId": "13d0ca42-504d-44ce-82bd-7f3b2b9c77da"
      },
      "source": [
        "net.res_line\n"
      ],
      "execution_count": 55,
      "outputs": [
        {
          "output_type": "execute_result",
          "data": {
            "text/html": [
              "<div>\n",
              "<style scoped>\n",
              "    .dataframe tbody tr th:only-of-type {\n",
              "        vertical-align: middle;\n",
              "    }\n",
              "\n",
              "    .dataframe tbody tr th {\n",
              "        vertical-align: top;\n",
              "    }\n",
              "\n",
              "    .dataframe thead th {\n",
              "        text-align: right;\n",
              "    }\n",
              "</style>\n",
              "<table border=\"1\" class=\"dataframe\">\n",
              "  <thead>\n",
              "    <tr style=\"text-align: right;\">\n",
              "      <th></th>\n",
              "      <th>p_from_mw</th>\n",
              "      <th>q_from_mvar</th>\n",
              "      <th>p_to_mw</th>\n",
              "      <th>q_to_mvar</th>\n",
              "      <th>pl_mw</th>\n",
              "      <th>ql_mvar</th>\n",
              "      <th>i_from_ka</th>\n",
              "      <th>i_to_ka</th>\n",
              "      <th>i_ka</th>\n",
              "      <th>vm_from_pu</th>\n",
              "      <th>va_from_degree</th>\n",
              "      <th>vm_to_pu</th>\n",
              "      <th>va_to_degree</th>\n",
              "      <th>loading_percent</th>\n",
              "      <th>loading_pf_percent</th>\n",
              "      <th>diff_pp2pf_percent</th>\n",
              "      <th>diff_pp2pf</th>\n",
              "    </tr>\n",
              "  </thead>\n",
              "  <tbody>\n",
              "    <tr>\n",
              "      <th>0</th>\n",
              "      <td>5.735798e-05</td>\n",
              "      <td>5.744059e-06</td>\n",
              "      <td>-5.735797e-05</td>\n",
              "      <td>-5.744058e-06</td>\n",
              "      <td>8.529000e-12</td>\n",
              "      <td>1.358000e-12</td>\n",
              "      <td>7.619347e-05</td>\n",
              "      <td>7.619347e-05</td>\n",
              "      <td>7.619347e-05</td>\n",
              "      <td>1.049999</td>\n",
              "      <td>-0.000148</td>\n",
              "      <td>1.049999</td>\n",
              "      <td>-0.000148</td>\n",
              "      <td>0.018098</td>\n",
              "      <td>33.200077</td>\n",
              "      <td>0.000216</td>\n",
              "      <td>-0.000072</td>\n",
              "    </tr>\n",
              "    <tr>\n",
              "      <th>1</th>\n",
              "      <td>5.735798e-05</td>\n",
              "      <td>5.744059e-06</td>\n",
              "      <td>-5.735797e-05</td>\n",
              "      <td>-5.744059e-06</td>\n",
              "      <td>8.940000e-13</td>\n",
              "      <td>1.420000e-13</td>\n",
              "      <td>7.619347e-05</td>\n",
              "      <td>7.619347e-05</td>\n",
              "      <td>7.619347e-05</td>\n",
              "      <td>1.049999</td>\n",
              "      <td>-0.000148</td>\n",
              "      <td>1.049999</td>\n",
              "      <td>-0.000148</td>\n",
              "      <td>0.018098</td>\n",
              "      <td>33.200073</td>\n",
              "      <td>0.000289</td>\n",
              "      <td>-0.000096</td>\n",
              "    </tr>\n",
              "    <tr>\n",
              "      <th>2</th>\n",
              "      <td>5.735797e-05</td>\n",
              "      <td>5.744059e-06</td>\n",
              "      <td>-5.735797e-05</td>\n",
              "      <td>-5.744059e-06</td>\n",
              "      <td>8.380000e-13</td>\n",
              "      <td>1.330000e-13</td>\n",
              "      <td>7.619347e-05</td>\n",
              "      <td>7.619347e-05</td>\n",
              "      <td>7.619347e-05</td>\n",
              "      <td>1.049999</td>\n",
              "      <td>-0.000148</td>\n",
              "      <td>1.049999</td>\n",
              "      <td>-0.000148</td>\n",
              "      <td>0.018098</td>\n",
              "      <td>33.200069</td>\n",
              "      <td>0.000312</td>\n",
              "      <td>-0.000104</td>\n",
              "    </tr>\n",
              "    <tr>\n",
              "      <th>3</th>\n",
              "      <td>5.735797e-05</td>\n",
              "      <td>5.744059e-06</td>\n",
              "      <td>-5.735797e-05</td>\n",
              "      <td>-5.744058e-06</td>\n",
              "      <td>7.300000e-13</td>\n",
              "      <td>1.160000e-13</td>\n",
              "      <td>7.619346e-05</td>\n",
              "      <td>7.619346e-05</td>\n",
              "      <td>7.619346e-05</td>\n",
              "      <td>1.049999</td>\n",
              "      <td>-0.000148</td>\n",
              "      <td>1.049999</td>\n",
              "      <td>-0.000148</td>\n",
              "      <td>0.018098</td>\n",
              "      <td>33.200066</td>\n",
              "      <td>0.000333</td>\n",
              "      <td>-0.000111</td>\n",
              "    </tr>\n",
              "    <tr>\n",
              "      <th>4</th>\n",
              "      <td>5.735797e-05</td>\n",
              "      <td>5.744059e-06</td>\n",
              "      <td>-5.735797e-05</td>\n",
              "      <td>-5.744059e-06</td>\n",
              "      <td>1.151000e-12</td>\n",
              "      <td>1.830000e-13</td>\n",
              "      <td>7.619346e-05</td>\n",
              "      <td>7.619346e-05</td>\n",
              "      <td>7.619346e-05</td>\n",
              "      <td>1.049999</td>\n",
              "      <td>-0.000148</td>\n",
              "      <td>1.049999</td>\n",
              "      <td>-0.000148</td>\n",
              "      <td>0.018098</td>\n",
              "      <td>33.200062</td>\n",
              "      <td>0.000357</td>\n",
              "      <td>-0.000119</td>\n",
              "    </tr>\n",
              "    <tr>\n",
              "      <th>...</th>\n",
              "      <td>...</td>\n",
              "      <td>...</td>\n",
              "      <td>...</td>\n",
              "      <td>...</td>\n",
              "      <td>...</td>\n",
              "      <td>...</td>\n",
              "      <td>...</td>\n",
              "      <td>...</td>\n",
              "      <td>...</td>\n",
              "      <td>...</td>\n",
              "      <td>...</td>\n",
              "      <td>...</td>\n",
              "      <td>...</td>\n",
              "      <td>...</td>\n",
              "      <td>...</td>\n",
              "      <td>...</td>\n",
              "      <td>...</td>\n",
              "    </tr>\n",
              "    <tr>\n",
              "      <th>900</th>\n",
              "      <td>5.499972e-08</td>\n",
              "      <td>1.807713e-08</td>\n",
              "      <td>-5.499972e-08</td>\n",
              "      <td>-1.807713e-08</td>\n",
              "      <td>2.909241e-18</td>\n",
              "      <td>2.226175e-19</td>\n",
              "      <td>7.652432e-08</td>\n",
              "      <td>7.652432e-08</td>\n",
              "      <td>7.652432e-08</td>\n",
              "      <td>1.049984</td>\n",
              "      <td>-0.000228</td>\n",
              "      <td>1.049984</td>\n",
              "      <td>-0.000228</td>\n",
              "      <td>0.000018</td>\n",
              "      <td>0.055211</td>\n",
              "      <td>-0.089119</td>\n",
              "      <td>0.000049</td>\n",
              "    </tr>\n",
              "    <tr>\n",
              "      <th>901</th>\n",
              "      <td>5.499912e-08</td>\n",
              "      <td>1.807711e-08</td>\n",
              "      <td>-5.499912e-08</td>\n",
              "      <td>-1.807711e-08</td>\n",
              "      <td>3.784358e-18</td>\n",
              "      <td>2.895827e-19</td>\n",
              "      <td>7.652356e-08</td>\n",
              "      <td>7.652356e-08</td>\n",
              "      <td>7.652356e-08</td>\n",
              "      <td>1.049984</td>\n",
              "      <td>-0.000228</td>\n",
              "      <td>1.049984</td>\n",
              "      <td>-0.000228</td>\n",
              "      <td>0.000018</td>\n",
              "      <td>0.055208</td>\n",
              "      <td>-0.082651</td>\n",
              "      <td>0.000046</td>\n",
              "    </tr>\n",
              "    <tr>\n",
              "      <th>902</th>\n",
              "      <td>5.499918e-08</td>\n",
              "      <td>1.807713e-08</td>\n",
              "      <td>-5.499918e-08</td>\n",
              "      <td>-1.807713e-08</td>\n",
              "      <td>6.849128e-18</td>\n",
              "      <td>5.241016e-19</td>\n",
              "      <td>7.652364e-08</td>\n",
              "      <td>7.652364e-08</td>\n",
              "      <td>7.652364e-08</td>\n",
              "      <td>1.049984</td>\n",
              "      <td>-0.000228</td>\n",
              "      <td>1.049984</td>\n",
              "      <td>-0.000228</td>\n",
              "      <td>0.000018</td>\n",
              "      <td>0.055204</td>\n",
              "      <td>-0.076182</td>\n",
              "      <td>0.000042</td>\n",
              "    </tr>\n",
              "    <tr>\n",
              "      <th>903</th>\n",
              "      <td>5.499918e-08</td>\n",
              "      <td>1.807713e-08</td>\n",
              "      <td>-5.499918e-08</td>\n",
              "      <td>-1.807713e-08</td>\n",
              "      <td>1.187517e-17</td>\n",
              "      <td>9.087108e-19</td>\n",
              "      <td>7.652364e-08</td>\n",
              "      <td>7.652364e-08</td>\n",
              "      <td>7.652364e-08</td>\n",
              "      <td>1.049984</td>\n",
              "      <td>-0.000228</td>\n",
              "      <td>1.049984</td>\n",
              "      <td>-0.000228</td>\n",
              "      <td>0.000018</td>\n",
              "      <td>0.055200</td>\n",
              "      <td>-0.069712</td>\n",
              "      <td>0.000038</td>\n",
              "    </tr>\n",
              "    <tr>\n",
              "      <th>904</th>\n",
              "      <td>5.499914e-08</td>\n",
              "      <td>1.807713e-08</td>\n",
              "      <td>-5.499914e-08</td>\n",
              "      <td>-1.807713e-08</td>\n",
              "      <td>9.727005e-17</td>\n",
              "      <td>7.443279e-18</td>\n",
              "      <td>7.652360e-08</td>\n",
              "      <td>7.652360e-08</td>\n",
              "      <td>7.652360e-08</td>\n",
              "      <td>1.049984</td>\n",
              "      <td>-0.000228</td>\n",
              "      <td>1.049983</td>\n",
              "      <td>-0.000228</td>\n",
              "      <td>0.000018</td>\n",
              "      <td>0.055197</td>\n",
              "      <td>-0.063240</td>\n",
              "      <td>0.000035</td>\n",
              "    </tr>\n",
              "  </tbody>\n",
              "</table>\n",
              "<p>905 rows × 17 columns</p>\n",
              "</div>"
            ],
            "text/plain": [
              "        p_from_mw   q_from_mvar  ...  diff_pp2pf_percent  diff_pp2pf\n",
              "0    5.735798e-05  5.744059e-06  ...            0.000216   -0.000072\n",
              "1    5.735798e-05  5.744059e-06  ...            0.000289   -0.000096\n",
              "2    5.735797e-05  5.744059e-06  ...            0.000312   -0.000104\n",
              "3    5.735797e-05  5.744059e-06  ...            0.000333   -0.000111\n",
              "4    5.735797e-05  5.744059e-06  ...            0.000357   -0.000119\n",
              "..            ...           ...  ...                 ...         ...\n",
              "900  5.499972e-08  1.807713e-08  ...           -0.089119    0.000049\n",
              "901  5.499912e-08  1.807711e-08  ...           -0.082651    0.000046\n",
              "902  5.499918e-08  1.807713e-08  ...           -0.076182    0.000042\n",
              "903  5.499918e-08  1.807713e-08  ...           -0.069712    0.000038\n",
              "904  5.499914e-08  1.807713e-08  ...           -0.063240    0.000035\n",
              "\n",
              "[905 rows x 17 columns]"
            ]
          },
          "metadata": {
            "tags": []
          },
          "execution_count": 55
        }
      ]
    },
    {
      "cell_type": "markdown",
      "metadata": {
        "id": "H9a1DvPt2w_L"
      },
      "source": [
        "# Rascunho"
      ]
    },
    {
      "cell_type": "code",
      "metadata": {
        "id": "gdOmMGLPw-bT",
        "colab": {
          "base_uri": "https://localhost:8080/",
          "height": 427
        },
        "outputId": "1ca3ca8c-9d46-4d64-b500-1932200bfa2f"
      },
      "source": [
        "net.line"
      ],
      "execution_count": 56,
      "outputs": [
        {
          "output_type": "execute_result",
          "data": {
            "text/html": [
              "<div>\n",
              "<style scoped>\n",
              "    .dataframe tbody tr th:only-of-type {\n",
              "        vertical-align: middle;\n",
              "    }\n",
              "\n",
              "    .dataframe tbody tr th {\n",
              "        vertical-align: top;\n",
              "    }\n",
              "\n",
              "    .dataframe thead th {\n",
              "        text-align: right;\n",
              "    }\n",
              "</style>\n",
              "<table border=\"1\" class=\"dataframe\">\n",
              "  <thead>\n",
              "    <tr style=\"text-align: right;\">\n",
              "      <th></th>\n",
              "      <th>name</th>\n",
              "      <th>std_type</th>\n",
              "      <th>from_bus</th>\n",
              "      <th>to_bus</th>\n",
              "      <th>length_km</th>\n",
              "      <th>r_ohm_per_km</th>\n",
              "      <th>x_ohm_per_km</th>\n",
              "      <th>c_nf_per_km</th>\n",
              "      <th>g_us_per_km</th>\n",
              "      <th>max_i_ka</th>\n",
              "      <th>df</th>\n",
              "      <th>parallel</th>\n",
              "      <th>type</th>\n",
              "      <th>in_service</th>\n",
              "      <th>alpha</th>\n",
              "      <th>temperature_degree_celsius</th>\n",
              "      <th>description</th>\n",
              "      <th>line_idx</th>\n",
              "      <th>folder_id</th>\n",
              "      <th>section_idx</th>\n",
              "      <th>c0_nf_per_km</th>\n",
              "      <th>r0_ohm_per_km</th>\n",
              "      <th>x0_ohm_per_km</th>\n",
              "      <th>pf_name</th>\n",
              "    </tr>\n",
              "  </thead>\n",
              "  <tbody>\n",
              "    <tr>\n",
              "      <th>0</th>\n",
              "      <td>LINE1</td>\n",
              "      <td>4c_70</td>\n",
              "      <td>1</td>\n",
              "      <td>2</td>\n",
              "      <td>0.001098</td>\n",
              "      <td>0.446</td>\n",
              "      <td>0.071</td>\n",
              "      <td>0.0</td>\n",
              "      <td>0.0</td>\n",
              "      <td>0.421</td>\n",
              "      <td>1.0</td>\n",
              "      <td>1</td>\n",
              "      <td>cs</td>\n",
              "      <td>True</td>\n",
              "      <td>0.00403</td>\n",
              "      <td>80.0</td>\n",
              "      <td></td>\n",
              "      <td>0.0</td>\n",
              "      <td>LV_Grid</td>\n",
              "      <td>0</td>\n",
              "      <td>0</td>\n",
              "      <td>1.505</td>\n",
              "      <td>0.083</td>\n",
              "      <td>LINE1</td>\n",
              "    </tr>\n",
              "    <tr>\n",
              "      <th>1</th>\n",
              "      <td>LINE2</td>\n",
              "      <td>4c_70</td>\n",
              "      <td>2</td>\n",
              "      <td>3</td>\n",
              "      <td>0.000115</td>\n",
              "      <td>0.446</td>\n",
              "      <td>0.071</td>\n",
              "      <td>0.0</td>\n",
              "      <td>0.0</td>\n",
              "      <td>0.421</td>\n",
              "      <td>1.0</td>\n",
              "      <td>1</td>\n",
              "      <td>cs</td>\n",
              "      <td>True</td>\n",
              "      <td>0.00403</td>\n",
              "      <td>80.0</td>\n",
              "      <td></td>\n",
              "      <td>1.0</td>\n",
              "      <td>LV_Grid</td>\n",
              "      <td>0</td>\n",
              "      <td>0</td>\n",
              "      <td>1.505</td>\n",
              "      <td>0.083</td>\n",
              "      <td>LINE2</td>\n",
              "    </tr>\n",
              "    <tr>\n",
              "      <th>2</th>\n",
              "      <td>LINE3</td>\n",
              "      <td>4c_70</td>\n",
              "      <td>3</td>\n",
              "      <td>4</td>\n",
              "      <td>0.000108</td>\n",
              "      <td>0.446</td>\n",
              "      <td>0.071</td>\n",
              "      <td>0.0</td>\n",
              "      <td>0.0</td>\n",
              "      <td>0.421</td>\n",
              "      <td>1.0</td>\n",
              "      <td>1</td>\n",
              "      <td>cs</td>\n",
              "      <td>True</td>\n",
              "      <td>0.00403</td>\n",
              "      <td>80.0</td>\n",
              "      <td></td>\n",
              "      <td>2.0</td>\n",
              "      <td>LV_Grid</td>\n",
              "      <td>0</td>\n",
              "      <td>0</td>\n",
              "      <td>1.505</td>\n",
              "      <td>0.083</td>\n",
              "      <td>LINE3</td>\n",
              "    </tr>\n",
              "    <tr>\n",
              "      <th>3</th>\n",
              "      <td>LINE4</td>\n",
              "      <td>4c_70</td>\n",
              "      <td>4</td>\n",
              "      <td>5</td>\n",
              "      <td>0.000094</td>\n",
              "      <td>0.446</td>\n",
              "      <td>0.071</td>\n",
              "      <td>0.0</td>\n",
              "      <td>0.0</td>\n",
              "      <td>0.421</td>\n",
              "      <td>1.0</td>\n",
              "      <td>1</td>\n",
              "      <td>cs</td>\n",
              "      <td>True</td>\n",
              "      <td>0.00403</td>\n",
              "      <td>80.0</td>\n",
              "      <td></td>\n",
              "      <td>3.0</td>\n",
              "      <td>LV_Grid</td>\n",
              "      <td>0</td>\n",
              "      <td>0</td>\n",
              "      <td>1.505</td>\n",
              "      <td>0.083</td>\n",
              "      <td>LINE4</td>\n",
              "    </tr>\n",
              "    <tr>\n",
              "      <th>4</th>\n",
              "      <td>LINE5</td>\n",
              "      <td>4c_70</td>\n",
              "      <td>5</td>\n",
              "      <td>6</td>\n",
              "      <td>0.000148</td>\n",
              "      <td>0.446</td>\n",
              "      <td>0.071</td>\n",
              "      <td>0.0</td>\n",
              "      <td>0.0</td>\n",
              "      <td>0.421</td>\n",
              "      <td>1.0</td>\n",
              "      <td>1</td>\n",
              "      <td>cs</td>\n",
              "      <td>True</td>\n",
              "      <td>0.00403</td>\n",
              "      <td>80.0</td>\n",
              "      <td></td>\n",
              "      <td>4.0</td>\n",
              "      <td>LV_Grid</td>\n",
              "      <td>0</td>\n",
              "      <td>0</td>\n",
              "      <td>1.505</td>\n",
              "      <td>0.083</td>\n",
              "      <td>LINE5</td>\n",
              "    </tr>\n",
              "    <tr>\n",
              "      <th>...</th>\n",
              "      <td>...</td>\n",
              "      <td>...</td>\n",
              "      <td>...</td>\n",
              "      <td>...</td>\n",
              "      <td>...</td>\n",
              "      <td>...</td>\n",
              "      <td>...</td>\n",
              "      <td>...</td>\n",
              "      <td>...</td>\n",
              "      <td>...</td>\n",
              "      <td>...</td>\n",
              "      <td>...</td>\n",
              "      <td>...</td>\n",
              "      <td>...</td>\n",
              "      <td>...</td>\n",
              "      <td>...</td>\n",
              "      <td>...</td>\n",
              "      <td>...</td>\n",
              "      <td>...</td>\n",
              "      <td>...</td>\n",
              "      <td>...</td>\n",
              "      <td>...</td>\n",
              "      <td>...</td>\n",
              "      <td>...</td>\n",
              "    </tr>\n",
              "    <tr>\n",
              "      <th>900</th>\n",
              "      <td>LINE901</td>\n",
              "      <td>2c_16</td>\n",
              "      <td>901</td>\n",
              "      <td>902</td>\n",
              "      <td>0.000144</td>\n",
              "      <td>1.150</td>\n",
              "      <td>0.088</td>\n",
              "      <td>0.0</td>\n",
              "      <td>0.0</td>\n",
              "      <td>0.421</td>\n",
              "      <td>1.0</td>\n",
              "      <td>1</td>\n",
              "      <td>cs</td>\n",
              "      <td>True</td>\n",
              "      <td>0.00403</td>\n",
              "      <td>80.0</td>\n",
              "      <td></td>\n",
              "      <td>900.0</td>\n",
              "      <td>LV_Grid</td>\n",
              "      <td>0</td>\n",
              "      <td>0</td>\n",
              "      <td>1.2</td>\n",
              "      <td>0.088</td>\n",
              "      <td>LINE901</td>\n",
              "    </tr>\n",
              "    <tr>\n",
              "      <th>901</th>\n",
              "      <td>LINE902</td>\n",
              "      <td>2c_16</td>\n",
              "      <td>902</td>\n",
              "      <td>903</td>\n",
              "      <td>0.000187</td>\n",
              "      <td>1.150</td>\n",
              "      <td>0.088</td>\n",
              "      <td>0.0</td>\n",
              "      <td>0.0</td>\n",
              "      <td>0.421</td>\n",
              "      <td>1.0</td>\n",
              "      <td>1</td>\n",
              "      <td>cs</td>\n",
              "      <td>True</td>\n",
              "      <td>0.00403</td>\n",
              "      <td>80.0</td>\n",
              "      <td></td>\n",
              "      <td>901.0</td>\n",
              "      <td>LV_Grid</td>\n",
              "      <td>0</td>\n",
              "      <td>0</td>\n",
              "      <td>1.2</td>\n",
              "      <td>0.088</td>\n",
              "      <td>LINE902</td>\n",
              "    </tr>\n",
              "    <tr>\n",
              "      <th>902</th>\n",
              "      <td>LINE903</td>\n",
              "      <td>2c_16</td>\n",
              "      <td>903</td>\n",
              "      <td>904</td>\n",
              "      <td>0.000339</td>\n",
              "      <td>1.150</td>\n",
              "      <td>0.088</td>\n",
              "      <td>0.0</td>\n",
              "      <td>0.0</td>\n",
              "      <td>0.421</td>\n",
              "      <td>1.0</td>\n",
              "      <td>1</td>\n",
              "      <td>cs</td>\n",
              "      <td>True</td>\n",
              "      <td>0.00403</td>\n",
              "      <td>80.0</td>\n",
              "      <td></td>\n",
              "      <td>902.0</td>\n",
              "      <td>LV_Grid</td>\n",
              "      <td>0</td>\n",
              "      <td>0</td>\n",
              "      <td>1.2</td>\n",
              "      <td>0.088</td>\n",
              "      <td>LINE903</td>\n",
              "    </tr>\n",
              "    <tr>\n",
              "      <th>903</th>\n",
              "      <td>LINE904</td>\n",
              "      <td>2c_16</td>\n",
              "      <td>904</td>\n",
              "      <td>905</td>\n",
              "      <td>0.000588</td>\n",
              "      <td>1.150</td>\n",
              "      <td>0.088</td>\n",
              "      <td>0.0</td>\n",
              "      <td>0.0</td>\n",
              "      <td>0.421</td>\n",
              "      <td>1.0</td>\n",
              "      <td>1</td>\n",
              "      <td>cs</td>\n",
              "      <td>True</td>\n",
              "      <td>0.00403</td>\n",
              "      <td>80.0</td>\n",
              "      <td></td>\n",
              "      <td>903.0</td>\n",
              "      <td>LV_Grid</td>\n",
              "      <td>0</td>\n",
              "      <td>0</td>\n",
              "      <td>1.2</td>\n",
              "      <td>0.088</td>\n",
              "      <td>LINE904</td>\n",
              "    </tr>\n",
              "    <tr>\n",
              "      <th>904</th>\n",
              "      <td>LINE905</td>\n",
              "      <td>2c_16</td>\n",
              "      <td>905</td>\n",
              "      <td>906</td>\n",
              "      <td>0.004815</td>\n",
              "      <td>1.150</td>\n",
              "      <td>0.088</td>\n",
              "      <td>0.0</td>\n",
              "      <td>0.0</td>\n",
              "      <td>0.421</td>\n",
              "      <td>1.0</td>\n",
              "      <td>1</td>\n",
              "      <td>cs</td>\n",
              "      <td>True</td>\n",
              "      <td>0.00403</td>\n",
              "      <td>80.0</td>\n",
              "      <td></td>\n",
              "      <td>904.0</td>\n",
              "      <td>LV_Grid</td>\n",
              "      <td>0</td>\n",
              "      <td>0</td>\n",
              "      <td>1.2</td>\n",
              "      <td>0.088</td>\n",
              "      <td>LINE905</td>\n",
              "    </tr>\n",
              "  </tbody>\n",
              "</table>\n",
              "<p>905 rows × 24 columns</p>\n",
              "</div>"
            ],
            "text/plain": [
              "        name std_type  from_bus  ...  r0_ohm_per_km  x0_ohm_per_km  pf_name\n",
              "0      LINE1    4c_70         1  ...          1.505          0.083    LINE1\n",
              "1      LINE2    4c_70         2  ...          1.505          0.083    LINE2\n",
              "2      LINE3    4c_70         3  ...          1.505          0.083    LINE3\n",
              "3      LINE4    4c_70         4  ...          1.505          0.083    LINE4\n",
              "4      LINE5    4c_70         5  ...          1.505          0.083    LINE5\n",
              "..       ...      ...       ...  ...            ...            ...      ...\n",
              "900  LINE901    2c_16       901  ...            1.2          0.088  LINE901\n",
              "901  LINE902    2c_16       902  ...            1.2          0.088  LINE902\n",
              "902  LINE903    2c_16       903  ...            1.2          0.088  LINE903\n",
              "903  LINE904    2c_16       904  ...            1.2          0.088  LINE904\n",
              "904  LINE905    2c_16       905  ...            1.2          0.088  LINE905\n",
              "\n",
              "[905 rows x 24 columns]"
            ]
          },
          "metadata": {
            "tags": []
          },
          "execution_count": 56
        }
      ]
    },
    {
      "cell_type": "code",
      "metadata": {
        "id": "LkRgsv8XxAWu"
      },
      "source": [
        ""
      ],
      "execution_count": 56,
      "outputs": []
    },
    {
      "cell_type": "code",
      "metadata": {
        "colab": {
          "base_uri": "https://localhost:8080/"
        },
        "id": "vgmIMzj9gwyt",
        "outputId": "2618bb38-1927-467d-93d6-d155c97cd9b4"
      },
      "source": [
        "pp.pf.runpp_3ph.runpp_3ph(net)\n",
        "net.res_line_3ph.loading_a_percent\n"
      ],
      "execution_count": 57,
      "outputs": [
        {
          "output_type": "execute_result",
          "data": {
            "text/plain": [
              "0      1262.203101\n",
              "1      1262.203101\n",
              "2      1262.203101\n",
              "3      1262.203101\n",
              "4      1262.203101\n",
              "          ...     \n",
              "900       0.014215\n",
              "901       0.014215\n",
              "902       0.014215\n",
              "903       0.014215\n",
              "904       0.014215\n",
              "Name: loading_a_percent, Length: 905, dtype: float64"
            ]
          },
          "metadata": {
            "tags": []
          },
          "execution_count": 57
        }
      ]
    },
    {
      "cell_type": "code",
      "metadata": {
        "id": "dCreCxYqw-i5"
      },
      "source": [
        ""
      ],
      "execution_count": 57,
      "outputs": []
    },
    {
      "cell_type": "code",
      "metadata": {
        "id": "Tt8LR9zaw-q5"
      },
      "source": [
        ""
      ],
      "execution_count": 57,
      "outputs": []
    },
    {
      "cell_type": "code",
      "metadata": {
        "id": "JzzTeHImw-gk"
      },
      "source": [
        ""
      ],
      "execution_count": 57,
      "outputs": []
    },
    {
      "cell_type": "code",
      "metadata": {
        "id": "2EpvVsDi2q7q",
        "colab": {
          "base_uri": "https://localhost:8080/",
          "height": 283
        },
        "outputId": "252f2a60-7147-436f-8791-463c08756f08"
      },
      "source": [
        "a=np.arange(1,10,1)\n",
        "y=[2,3,5,7,8,68,5,74,3,9]\n",
        "t,r,e=plt.hist(y,a)\n",
        "\n",
        "a"
      ],
      "execution_count": 58,
      "outputs": [
        {
          "output_type": "execute_result",
          "data": {
            "text/plain": [
              "array([1, 2, 3, 4, 5, 6, 7, 8, 9])"
            ]
          },
          "metadata": {
            "tags": []
          },
          "execution_count": 58
        },
        {
          "output_type": "display_data",
          "data": {
            "image/png": "[encoded data removed]",
            "text/plain": [
              "<Figure size 432x288 with 1 Axes>"
            ]
          },
          "metadata": {
            "tags": [],
            "needs_background": "light"
          }
        }
      ]
    },
    {
      "cell_type": "code",
      "metadata": {
        "id": "iEJIvhxoMIDy",
        "colab": {
          "base_uri": "https://localhost:8080/",
          "height": 135
        },
        "outputId": "3c786072-9ae9-41b0-abae-290b6a76b7af"
      },
      "source": [
        "cinemas = []\n",
        "\n",
        "for k in range(5):\n",
        "    cinema = []\n",
        "    for j in range(5):\n",
        "        column = []\n",
        "        for i in range(5):\n",
        "            column.append(0)\n",
        "        cinema.append(column)\n",
        "    cinemas.append(cinema)\n",
        "cinemas[3][2][1] = 1\n",
        "plt.hist([cinemas][])"
      ],
      "execution_count": 59,
      "outputs": [
        {
          "output_type": "error",
          "ename": "SyntaxError",
          "evalue": "ignored",
          "traceback": [
            "\u001b[0;36m  File \u001b[0;32m\"<ipython-input-59-af65638b189c>\"\u001b[0;36m, line \u001b[0;32m12\u001b[0m\n\u001b[0;31m    plt.hist([cinemas][])\u001b[0m\n\u001b[0m                       ^\u001b[0m\n\u001b[0;31mSyntaxError\u001b[0m\u001b[0;31m:\u001b[0m invalid syntax\n"
          ]
        }
      ]
    },
    {
      "cell_type": "code",
      "metadata": {
        "id": "XzlzLPR_Fvz7"
      },
      "source": [
        "a=np.array([2,3,4])\n",
        "a"
      ],
      "execution_count": null,
      "outputs": []
    },
    {
      "cell_type": "code",
      "metadata": {
        "id": "qt1u29__FvxZ"
      },
      "source": [
        "#Load_Ia = [[np.ones(3)],[np.ones(4)],[np.zeros(8)]]\n",
        "b = np.ones((3,6,9))\n",
        "b[1][5][2]=6\n",
        "b[2]=7\n",
        "b[0]=5\n",
        "\n",
        "np.histogramdd(b)"
      ],
      "execution_count": null,
      "outputs": []
    },
    {
      "cell_type": "code",
      "metadata": {
        "id": "KsBl7izbRCEK"
      },
      "source": [
        "r = np.random.randn(6,4,2)\n",
        "r"
      ],
      "execution_count": null,
      "outputs": []
    },
    {
      "cell_type": "code",
      "metadata": {
        "id": "-LCPmkIXIj5K"
      },
      "source": [
        "    #convert 3D array to 2D\n",
        "    r2d=np.zeros((8,6))\n",
        "    for k in range(1,6,1):\n",
        "      for i in range(1,4,1):\n",
        "        for j in range(1,2,1):\n",
        "          r2d[(i-1)*2+j][k] = r[k][i][j]\n"
      ],
      "execution_count": null,
      "outputs": []
    },
    {
      "cell_type": "code",
      "metadata": {
        "id": "6OwlZscqFvu-"
      },
      "source": [
        "(n, bins, patches) = plt.hist(r2d)"
      ],
      "execution_count": null,
      "outputs": []
    },
    {
      "cell_type": "code",
      "metadata": {
        "id": "yq4Cnzz7FvsX"
      },
      "source": [
        ""
      ],
      "execution_count": null,
      "outputs": []
    },
    {
      "cell_type": "code",
      "metadata": {
        "id": "rz3K5zxw8wH6"
      },
      "source": [
        "Penetration_index=20 \n",
        "Transformer_capacity=880 #kVA\n",
        "Nb_Load = len(net.asymmetric_load)  \n",
        "\n",
        "def load_profile():  \n",
        "    net=\n",
        "    \n",
        "    \n",
        "def quantos_paineis (Penetration_index):\n",
        "    Pot=Potencia do sistema*ip\n",
        "\n",
        "\n",
        "def sort_PV(PV_cap,PV_location,Nb_PV):\n",
        "    # sortear capacidade instalada\n",
        "    # sortear localizacao\n",
        "    # sortear irradiacao\n",
        "    \n",
        "    pp.create_sgen(net, bus=7,p_mw=0.06, name='Célula Solar', type='PV')\n",
        "\n",
        "\n",
        "\n",
        "def power_flow():        \n",
        "    pandapower.pf.runpp_3ph.runpp_3ph(net, calculate_voltage_angles=True, init='auto', max_iteration='auto', tolerance_mva=1e-08, trafo_model='t', trafo_loading='current', enforce_q_lims=False, numba=True, recycle=None, check_connectivity=True, switch_rx_ratio=2.0, delta_q=0, v_debug=False, **kwargs)                      \n",
        "    net.res_line_3ph.loading_percent.max()                      \n",
        "    net.res_bus_3ph.unbalance_percent.max()                     \n",
        "\n",
        "\n"
      ],
      "execution_count": null,
      "outputs": []
    },
    {
      "cell_type": "code",
      "metadata": {
        "id": "cUYU3uVY9P4l"
      },
      "source": [
        "#import drive.mount('/Shared with me/Mestrado_Marina)\n",
        "## S=scipy.io.loadmat('/folders/1-df-MbTcGiYYEVIcfMAZjUEMF2cAroZr/clear_sky.mat')$ pip install PyDrive\n",
        "$ pip install PyDrive\n",
        "\n",
        "from pydrive.auth import GoogleAuth\n",
        "from pydrive.drive import GoogleDrive\n",
        "\n",
        "gauth = GoogleAuth()\n",
        "gauth.LocalWebserverAuth()\n",
        "\n",
        "drive = GoogleDrive(gauth)"
      ],
      "execution_count": null,
      "outputs": []
    },
    {
      "cell_type": "code",
      "metadata": {
        "id": "jRLoC9UIn09w"
      },
      "source": [
        "!pip install -U -q PyDrive\n",
        "import os\n",
        "from pydrive.auth import GoogleAuth\n",
        "from pydrive.drive import GoogleDrive\n",
        "from google.colab import auth\n",
        "from oauth2client.client import GoogleCredentials\n",
        "\n",
        "# 1. Authenticate and create the PyDrive client.\n",
        "auth.authenticate_user()\n",
        "gauth = GoogleAuth()\n",
        "gauth.credentials = GoogleCredentials.get_application_default()\n",
        "drive = GoogleDrive(gauth)\n",
        "\n",
        "# choose a local (colab) directory to store the data.\n",
        "local_download_path = os.path.expanduser('~/data')\n",
        "try:\n",
        "  os.makedirs(local_download_path)\n",
        "except: pass\n",
        "\n",
        "# 2. Auto-iterate using the query syntax\n",
        "#    https://developers.google.com/drive/v2/web/search-parameters\n",
        "file_list = drive.ListFile(\n",
        "    {'q': \"'1SooKSw8M4ACbznKjnNrYvJ5wxuqJ-YCk' in parents\"}).GetList()\n",
        "\n",
        "for f in file_list:\n",
        "  # 3. Create & download by id.\n",
        "  print('title: %s, id: %s' % (f['title'], f['id']))\n",
        "  fname = os.path.join(local_download_path, f['title'])\n",
        "  print('downloading to {}'.format(fname))\n",
        "  f_ = drive.CreateFile({'id': f['id']})\n",
        "  f_.GetContentFile(fname)\n",
        "\n",
        "\n",
        "with open(fname, 'r') as f:\n",
        "  print(f.read())"
      ],
      "execution_count": null,
      "outputs": []
    },
    {
      "cell_type": "code",
      "metadata": {
        "id": "-XwAmDtmu8Ic"
      },
      "source": [
        ""
      ],
      "execution_count": null,
      "outputs": []
    },
    {
      "cell_type": "code",
      "metadata": {
        "id": "xIzYPfHStvL1"
      },
      "source": [
        "#clear_sky_data = pd.DataFrame(S['clear_sky'])\n",
        "#clear_sky_data\n",
        "\n",
        "def Perfil_Irradiacao_Solar(t0, tf, Nb_ss, Nb_PV, ss_res):\n",
        "    \n",
        "    drive.mount('/folders/1-df-MbTcGiYYEVIcfMAZjUEMF2cAroZr')\n",
        "    Sky=scipy.io.loadmat('/folders/1-df-MbTcGiYYEVIcfMAZjUEMF2cAroZr/clear_sky.mat')\n",
        "    modelos_mensais = scipy.io.loadmat('/folders/1-df-MbTcGiYYEVIcfMAZjUEMF2cAroZr/modelos_mensais_PETR.mat')\n",
        "    serie_historica = scipy.io.loadmat('/folders/1-df-MbTcGiYYEVIcfMAZjUEMF2cAroZr/serie_historica_PETR.mat')\n",
        "\n",
        "   \n",
        "    clear_sky_data = pd.DataFrame(Sky['clear_sky'])\n",
        "    #modelos_mensais_PETR = #?????\n",
        "    #serie_historica_PETR = #?????????\n",
        "\n",
        "#r_cap.at[3,\"resid_cap_vals\"]\n",
        "r_cap = r_cap.drop([0])\n",
        "r_cap[0] = pd.to_numeric(r_cap[0])\n",
        "r_cap\n",
        "   \n",
        "   t = [t0+1:1:tf+1]\n",
        "  \n",
        "  return()\n",
        "\n",
        "function [G] = Perfil_Irradiacao_Solar(t0, tf, Nb_ss, Nb_PV, ss_res);\n",
        "    \n",
        "    t = [t0+1:1:tf+1];\n",
        "    %mes = randi([1 12],1,1);\n",
        "    mes = 1;\n",
        "    td = [t0:ss_res/60:tf];\n",
        "    \n",
        "    \n",
        "    cs = clear_sky(t,mes);\n",
        "\n",
        "    t1 = find(td==t0);\n",
        "    t2 = find(td==tf);\n",
        "\n",
        "    irrad_ceu_limpo = spline(t,cs,td(t1:t2));\n",
        "\n",
        "    for i=1:1:length(irrad_ceu_limpo)\n",
        "        if irrad_ceu_limpo(i)<=0\n",
        "            irrad_ceu_limpo(i)=0;\n",
        "        end\n",
        "    end\n",
        "       \n",
        "    irradiacao = [1 Nb_ss];\n",
        "\n",
        "    for j=1:1:Nb_PV\n",
        "        for i=1:1:Nb_ss\n",
        "        sorteio = random('beta',a_Beta(mes),b_Beta(mes));\n",
        "        ceu = irrad_ceu_limpo(1,i);\n",
        "        irradiacao(j,i) = ceu*sorteio;\n",
        "        end\n",
        "    end\n",
        "    \n",
        "    G = irradiacao;\n",
        "    \n",
        "   %Figure = figure(5);\n",
        "    \n",
        "    %x0=t0:td:tf;\n",
        "    %dado = g_global(1,:,1);\n",
        "    %sol = g_global(:,:,1);\n",
        "    %serie = plot(x0,dado,'y','Marker','o');\n",
        "    \n",
        "    %hold on\n",
        "    \n",
        "    %plot(x0,sol,'y','Marker','o');\n",
        "    \n",
        "    %hold on\n",
        "    \n",
        "    \n",
        "    %for i=1:1:Nb_ss\n",
        "    %sorteio = random('beta',a_Beta(mes),b_Beta(mes));\n",
        "    %ceu = irrad_ceu_limpo(1,i);\n",
        "    %irradiacao(1,i) = ceu*sorteio;\n",
        "    %end\n",
        "    \n",
        "    %irradiacao1 =  irradiacao; \n",
        "    %serie1 = plot(x,irradiacao1,'g','Marker','x')\n",
        "    \n",
        "    %hold on\n",
        "    \n",
        "     %   for i=1:1:Nb_ss\n",
        "      %  sorteio = random('beta',a_Beta(mes),b_Beta(mes));\n",
        "       % ceu = irrad_ceu_limpo(1,i);\n",
        "        %irradiacao(1,i) = ceu*sorteio;\n",
        "        %end\n",
        "\n",
        "        %irradiacao2 = irradiacao;\n",
        "        %serie2 = plot(irradiacao2,'r','Marker','o');\n",
        " \n",
        "%xlim([0 23])\n",
        "%title('Séries Sintéticas para o mês de Janeiro geradas a partir dos modelos mensais')\n",
        "%legend([serie serie1 serie2], {'Séries Históricas', 'Serie Sintética 1', 'Série Sintética 2'}, 'Location', 'bestoutside')\n",
        "%xlabel('Hora do dia (h)')\n",
        "%ylabel('Irradiação (W/m^{2})')\n"
      ],
      "execution_count": null,
      "outputs": []
    }
  ]
}